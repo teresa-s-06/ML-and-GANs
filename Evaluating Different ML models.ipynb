{
 "cells": [
  {
   "cell_type": "markdown",
   "metadata": {},
   "source": [
    "# Evaluating Different ML models "
   ]
  },
  {
   "cell_type": "markdown",
   "metadata": {},
   "source": [
    "## Libraries"
   ]
  },
  {
   "cell_type": "code",
   "execution_count": null,
   "metadata": {},
   "outputs": [],
   "source": [
    "import numpy as np\n",
    "import pandas as pd\n",
    "from sklearn import svm\n",
    "from sklearn.neighbors import KNeighborsClassifier\n",
    "from sklearn.preprocessing import normalize\n",
    "from keras.models import Sequential\n",
    "from keras.layers import Dense"
   ]
  },
  {
   "cell_type": "markdown",
   "metadata": {},
   "source": [
    "## Functions"
   ]
  },
  {
   "cell_type": "code",
   "execution_count": 3,
   "metadata": {},
   "outputs": [],
   "source": [
    "global A\n",
    "A=np.array([1.000e+00, 1.000e+00, 8.500e+01, 1.000e+00, 2.000e+00, 4.983e+03,\n",
    "       5.000e+00, 5.000e+00, 5.000e+00, 5.000e+00, 5.000e+00, 5.000e+00,\n",
    "       5.000e+00, 5.000e+00, 5.000e+00, 5.000e+00, 5.000e+00, 5.000e+00,\n",
    "       5.000e+00, 5.000e+00, 1.592e+03, 1.584e+03])\n",
    "\n",
    "def norme(X):\n",
    "    Y=X.copy()\n",
    "    for i in range(X.shape[1]):\n",
    "        Y[:,i]=Y[:,i]/A[i]\n",
    "    return Y\n",
    "\n",
    "def disc(Syn_X,A):\n",
    "    Y=Syn_X.copy()\n",
    "    for i in range(Syn_X.shape[1]):\n",
    "        Y[:,i]=np.round(A[i]*Syn_X[:,i])/A[i]\n",
    "    return Y"
   ]
  },
  {
   "cell_type": "markdown",
   "metadata": {},
   "source": [
    "## Importing Data"
   ]
  },
  {
   "cell_type": "code",
   "execution_count": 4,
   "metadata": {},
   "outputs": [],
   "source": [
    "df1 = pd.read_excel(r'C:\\Users\\AMIRHOSEIN\\Desktop\\University\\Data Mining\\airline_test_BlanksRemoved.xlsx')\n",
    "passengers_list1 = df1.values.tolist()\n",
    "\n",
    "satisfaction=[]\n",
    "for i in range(len(passengers_list1)):\n",
    "    satisfaction.append(passengers_list1[i][-1])\n",
    "\n",
    "data1=np.array(passengers_list1)[:,2:-1]\n",
    "data1=data1.astype('float64')\n",
    "# data1=data1.astype(int)\n",
    "# test_X=normalize(data1,norm='max',axis=0)\n",
    "test_X=norme(data1)\n",
    "test_y=np.array(satisfaction)\n",
    "\n",
    "\n",
    "df2 = pd.read_excel(r'C:\\Users\\AMIRHOSEIN\\Desktop\\University\\Data Mining\\airline_train_BlanksRemoved.xlsx')\n",
    "passengers_list = df2.values.tolist()\n",
    "\n",
    "satisfaction=[]\n",
    "for i in range(len(passengers_list)):\n",
    "    satisfaction.append(passengers_list[i][-1])\n",
    "\n",
    "data=np.array(passengers_list)[:,2:-1]\n",
    "# data=data.astype(int)\n",
    "Org_X=normalize(data,norm='max',axis=0)[:10000,:]\n",
    "Org_y=np.array(satisfaction)[:10000]\n",
    "\n",
    "\n",
    "\n",
    "df3 = pd.read_csv(r'C:\\Users\\AMIRHOSEIN\\Desktop\\University\\Data Mining\\Syn_data.csv')\n",
    "passengers_list = df3.values.tolist()\n",
    "\n",
    "satisfaction=[]\n",
    "for i in range(len(passengers_list)):\n",
    "    satisfaction.append(passengers_list[i][-1])\n",
    "\n",
    "Syn_X=np.array(passengers_list)[:,:-1]\n",
    "Syn_X=disc(Syn_X,A)\n",
    "Syn_y=np.array(satisfaction)\n",
    "Syn_y=np.round(Syn_y)\n",
    "\n",
    "\n",
    "\n"
   ]
  },
  {
   "cell_type": "markdown",
   "metadata": {},
   "source": [
    "## Training and Evaluating"
   ]
  },
  {
   "cell_type": "markdown",
   "metadata": {},
   "source": [
    "### SVM "
   ]
  },
  {
   "cell_type": "markdown",
   "metadata": {},
   "source": [
    "#### RBF"
   ]
  },
  {
   "cell_type": "code",
   "execution_count": 74,
   "metadata": {},
   "outputs": [],
   "source": [
    "#Create a svm Classifier\n",
    "B_rbf = svm.SVC(kernel='rbf') # Linear Kernel\n",
    "\n",
    "#Train the model using the training sets\n",
    "B_rbf.fit(Both_X, np.round(Both_y))\n",
    "\n",
    "#Predict the response for test dataset\n",
    "B_rbf_pred= B_rbf.score(test_X,test_y)"
   ]
  },
  {
   "cell_type": "code",
   "execution_count": 75,
   "metadata": {},
   "outputs": [
    {
     "data": {
      "text/plain": [
       "0.9301741783493608"
      ]
     },
     "execution_count": 75,
     "metadata": {},
     "output_type": "execute_result"
    }
   ],
   "source": [
    "B_rbf_pred"
   ]
  },
  {
   "cell_type": "code",
   "execution_count": 76,
   "metadata": {},
   "outputs": [],
   "source": [
    "#Create a svm Classifier\n",
    "S_rbf = svm.SVC(kernel='rbf') # Linear Kernel\n",
    "\n",
    "#Train the model using the training sets\n",
    "S_rbf.fit(Syn_X, np.round(Syn_y))\n",
    "\n",
    "#Predict the response for test dataset\n",
    "S_rbf_pred= S_rbf.score(test_X,test_y)"
   ]
  },
  {
   "cell_type": "code",
   "execution_count": 77,
   "metadata": {},
   "outputs": [
    {
     "data": {
      "text/plain": [
       "0.6249951724404279"
      ]
     },
     "execution_count": 77,
     "metadata": {},
     "output_type": "execute_result"
    }
   ],
   "source": [
    "S_rbf_pred"
   ]
  },
  {
   "cell_type": "code",
   "execution_count": 78,
   "metadata": {},
   "outputs": [],
   "source": [
    "#Create a svm Classifier\n",
    "O_rbf = svm.SVC(kernel='rbf') # Linear Kernel\n",
    "\n",
    "#Train the model using the training sets\n",
    "O_rbf.fit(Org_X, Org_y)\n",
    "\n",
    "#Predict the response for test dataset\n",
    "O_rbf_pred= O_rbf.score(test_X,test_y)"
   ]
  },
  {
   "cell_type": "code",
   "execution_count": 79,
   "metadata": {},
   "outputs": [
    {
     "data": {
      "text/plain": [
       "0.9353107017340594"
      ]
     },
     "execution_count": 79,
     "metadata": {},
     "output_type": "execute_result"
    }
   ],
   "source": [
    "O_rbf_pred"
   ]
  },
  {
   "cell_type": "markdown",
   "metadata": {},
   "source": [
    "#### Linear"
   ]
  },
  {
   "cell_type": "code",
   "execution_count": 80,
   "metadata": {},
   "outputs": [],
   "source": [
    "#Create a svm Classifier\n",
    "B_linear = svm.SVC(kernel='linear') # Linear Kernel\n",
    "\n",
    "#Train the model using the training sets\n",
    "B_linear.fit(Both_X, np.round(Both_y))\n",
    "\n",
    "#Predict the response for test dataset\n",
    "B_linear_pred= B_linear.score(test_X,test_y)"
   ]
  },
  {
   "cell_type": "code",
   "execution_count": 81,
   "metadata": {},
   "outputs": [
    {
     "data": {
      "text/plain": [
       "0.8327733364229715"
      ]
     },
     "execution_count": 81,
     "metadata": {},
     "output_type": "execute_result"
    }
   ],
   "source": [
    "B_linear_pred"
   ]
  },
  {
   "cell_type": "code",
   "execution_count": 82,
   "metadata": {},
   "outputs": [],
   "source": [
    "#Create a svm Classifier\n",
    "O_linear = svm.SVC(kernel='linear') # Linear Kernel\n",
    "\n",
    "#Train the model using the training sets\n",
    "O_linear.fit(Org_X, np.round(Org_y))\n",
    "\n",
    "#Predict the response for test dataset\n",
    "O_linear_pred= O_linear.score(test_X,test_y)"
   ]
  },
  {
   "cell_type": "code",
   "execution_count": 83,
   "metadata": {},
   "outputs": [
    {
     "data": {
      "text/plain": [
       "0.872050361101456"
      ]
     },
     "execution_count": 83,
     "metadata": {},
     "output_type": "execute_result"
    }
   ],
   "source": [
    "O_linear_pred"
   ]
  },
  {
   "cell_type": "code",
   "execution_count": 84,
   "metadata": {},
   "outputs": [],
   "source": [
    "#Create a svm Classifier\n",
    "S_linear = svm.SVC(kernel='linear') # Linear Kernel\n",
    "\n",
    "#Train the model using the training sets\n",
    "S_linear.fit(Syn_X, np.round(Syn_y))\n",
    "\n",
    "#Predict the response for test dataset\n",
    "S_linear_pred= S_linear.score(test_X,test_y)"
   ]
  },
  {
   "cell_type": "code",
   "execution_count": 85,
   "metadata": {},
   "outputs": [
    {
     "data": {
      "text/plain": [
       "0.6148379871007609"
      ]
     },
     "execution_count": 85,
     "metadata": {},
     "output_type": "execute_result"
    }
   ],
   "source": [
    "S_linear_pred"
   ]
  },
  {
   "cell_type": "markdown",
   "metadata": {},
   "source": [
    "#### sigmoid"
   ]
  },
  {
   "cell_type": "code",
   "execution_count": 86,
   "metadata": {},
   "outputs": [],
   "source": [
    "#Create a svm Classifier\n",
    "B_sigmoid = svm.SVC(kernel='sigmoid') # Linear Kernel\n",
    "\n",
    "#Train the model using the training sets\n",
    "B_sigmoid.fit(Both_X, np.round(Both_y))\n",
    "\n",
    "#Predict the response for test dataset\n",
    "B_sigmoid_pred= B_sigmoid.score(test_X,test_y)"
   ]
  },
  {
   "cell_type": "code",
   "execution_count": 87,
   "metadata": {},
   "outputs": [
    {
     "data": {
      "text/plain": [
       "0.797474220831885"
      ]
     },
     "execution_count": 87,
     "metadata": {},
     "output_type": "execute_result"
    }
   ],
   "source": [
    "B_sigmoid_pred"
   ]
  },
  {
   "cell_type": "code",
   "execution_count": 88,
   "metadata": {},
   "outputs": [],
   "source": [
    "#Create a svm Classifier\n",
    "O_sigmoid = svm.SVC(kernel='sigmoid') # Linear Kernel\n",
    "\n",
    "#Train the model using the training sets\n",
    "O_sigmoid.fit(Org_X, np.round(Org_y))\n",
    "\n",
    "#Predict the response for test dataset\n",
    "O_sigmoid_pred= O_sigmoid.score(test_X,test_y)"
   ]
  },
  {
   "cell_type": "code",
   "execution_count": 89,
   "metadata": {},
   "outputs": [
    {
     "data": {
      "text/plain": [
       "0.3472367049009385"
      ]
     },
     "execution_count": 89,
     "metadata": {},
     "output_type": "execute_result"
    }
   ],
   "source": [
    "O_sigmoid_pred"
   ]
  },
  {
   "cell_type": "code",
   "execution_count": 92,
   "metadata": {},
   "outputs": [],
   "source": [
    "#Create a svm Classifier\n",
    "S_sigmoid = svm.SVC(kernel='sigmoid') # Linear Kernel\n",
    "\n",
    "#Train the model using the training sets\n",
    "S_sigmoid.fit(Syn_X, np.round(Syn_y))\n",
    "\n",
    "#Predict the response for test dataset\n",
    "S_sigmoid_pred= S_sigmoid.score(test_X,test_y)"
   ]
  },
  {
   "cell_type": "code",
   "execution_count": 93,
   "metadata": {},
   "outputs": [
    {
     "data": {
      "text/plain": [
       "0.5206812652068127"
      ]
     },
     "execution_count": 93,
     "metadata": {},
     "output_type": "execute_result"
    }
   ],
   "source": [
    "S_sigmoid_pred"
   ]
  },
  {
   "cell_type": "markdown",
   "metadata": {},
   "source": [
    "### KNN"
   ]
  },
  {
   "cell_type": "markdown",
   "metadata": {},
   "source": [
    "#### k=3"
   ]
  },
  {
   "cell_type": "code",
   "execution_count": 94,
   "metadata": {},
   "outputs": [],
   "source": [
    "B_knn3 = KNeighborsClassifier(n_neighbors=3)\n",
    "B_knn3.fit(Both_X, Both_y)\n",
    "B_knn3_pred=B_knn3.score(test_X,test_y)"
   ]
  },
  {
   "cell_type": "code",
   "execution_count": 95,
   "metadata": {},
   "outputs": [
    {
     "data": {
      "text/plain": [
       "0.9087011933727263"
      ]
     },
     "execution_count": 95,
     "metadata": {},
     "output_type": "execute_result"
    }
   ],
   "source": [
    "B_knn3_pred"
   ]
  },
  {
   "cell_type": "code",
   "execution_count": 96,
   "metadata": {},
   "outputs": [],
   "source": [
    "O_knn3 = KNeighborsClassifier(n_neighbors=3)\n",
    "O_knn3.fit(Org_X, Org_y)\n",
    "O_knn3_pred=O_knn3.score(test_X,test_y)"
   ]
  },
  {
   "cell_type": "code",
   "execution_count": 97,
   "metadata": {},
   "outputs": [
    {
     "data": {
      "text/plain": [
       "0.908855675279033"
      ]
     },
     "execution_count": 97,
     "metadata": {},
     "output_type": "execute_result"
    }
   ],
   "source": [
    "O_knn3_pred"
   ]
  },
  {
   "cell_type": "code",
   "execution_count": 98,
   "metadata": {},
   "outputs": [],
   "source": [
    "S_knn3 = KNeighborsClassifier(n_neighbors=3)\n",
    "S_knn3.fit(Syn_X, Syn_y)\n",
    "S_knn3_pred=S_knn3.score(test_X,test_y)"
   ]
  },
  {
   "cell_type": "code",
   "execution_count": 99,
   "metadata": {},
   "outputs": [
    {
     "data": {
      "text/plain": [
       "0.5939056887961998"
      ]
     },
     "execution_count": 99,
     "metadata": {},
     "output_type": "execute_result"
    }
   ],
   "source": [
    "S_knn3_pred"
   ]
  },
  {
   "cell_type": "markdown",
   "metadata": {},
   "source": [
    "#### k=5"
   ]
  },
  {
   "cell_type": "code",
   "execution_count": 100,
   "metadata": {},
   "outputs": [],
   "source": [
    "B_knn5 = KNeighborsClassifier(n_neighbors=5)\n",
    "B_knn5.fit(Both_X, Both_y)\n",
    "B_knn5_pred=B_knn5.score(test_X,test_y)"
   ]
  },
  {
   "cell_type": "code",
   "execution_count": 101,
   "metadata": {},
   "outputs": [
    {
     "data": {
      "text/plain": [
       "0.9114046267330939"
      ]
     },
     "execution_count": 101,
     "metadata": {},
     "output_type": "execute_result"
    }
   ],
   "source": [
    "B_knn5_pred"
   ]
  },
  {
   "cell_type": "code",
   "execution_count": 102,
   "metadata": {},
   "outputs": [],
   "source": [
    "O_knn5 = KNeighborsClassifier(n_neighbors=5)\n",
    "O_knn5.fit(Org_X, Org_y)\n",
    "O_knn5_pred=O_knn5.score(test_X,test_y)"
   ]
  },
  {
   "cell_type": "code",
   "execution_count": 103,
   "metadata": {},
   "outputs": [
    {
     "data": {
      "text/plain": [
       "0.9117135905457073"
      ]
     },
     "execution_count": 103,
     "metadata": {},
     "output_type": "execute_result"
    }
   ],
   "source": [
    "O_knn5_pred"
   ]
  },
  {
   "cell_type": "code",
   "execution_count": 104,
   "metadata": {},
   "outputs": [],
   "source": [
    "S_knn5 = KNeighborsClassifier(n_neighbors=5)\n",
    "S_knn5.fit(Syn_X, Syn_y)\n",
    "S_knn5_pred=S_knn5.score(test_X,test_y)"
   ]
  },
  {
   "cell_type": "code",
   "execution_count": 105,
   "metadata": {},
   "outputs": [
    {
     "data": {
      "text/plain": [
       "0.5939056887961998"
      ]
     },
     "execution_count": 105,
     "metadata": {},
     "output_type": "execute_result"
    }
   ],
   "source": [
    "S_knn5_pred"
   ]
  },
  {
   "cell_type": "markdown",
   "metadata": {},
   "source": [
    "#### k=7"
   ]
  },
  {
   "cell_type": "code",
   "execution_count": 106,
   "metadata": {},
   "outputs": [],
   "source": [
    "B_knn7 = KNeighborsClassifier(n_neighbors=7)\n",
    "B_knn7.fit(Both_X, Both_y)\n",
    "B_knn7_pred=B_knn7.score(test_X,test_y)"
   ]
  },
  {
   "cell_type": "code",
   "execution_count": 107,
   "metadata": {},
   "outputs": [
    {
     "data": {
      "text/plain": [
       "0.9120997953114741"
      ]
     },
     "execution_count": 107,
     "metadata": {},
     "output_type": "execute_result"
    }
   ],
   "source": [
    "B_knn7_pred"
   ]
  },
  {
   "cell_type": "code",
   "execution_count": 108,
   "metadata": {},
   "outputs": [],
   "source": [
    "O_knn7 = KNeighborsClassifier(n_neighbors=7)\n",
    "O_knn7.fit(Org_X, Org_y)\n",
    "O_knn7_pred=O_knn7.score(test_X,test_y)"
   ]
  },
  {
   "cell_type": "code",
   "execution_count": 109,
   "metadata": {},
   "outputs": [
    {
     "data": {
      "text/plain": [
       "0.9123315181709343"
      ]
     },
     "execution_count": 109,
     "metadata": {},
     "output_type": "execute_result"
    }
   ],
   "source": [
    "O_knn7_pred"
   ]
  },
  {
   "cell_type": "code",
   "execution_count": 110,
   "metadata": {},
   "outputs": [],
   "source": [
    "S_knn7 = KNeighborsClassifier(n_neighbors=7)\n",
    "S_knn7.fit(Syn_X, Syn_y)\n",
    "S_knn7_pred=S_knn7.score(test_X,test_y)"
   ]
  },
  {
   "cell_type": "code",
   "execution_count": 111,
   "metadata": {},
   "outputs": [
    {
     "data": {
      "text/plain": [
       "0.5886146835051944"
      ]
     },
     "execution_count": 111,
     "metadata": {},
     "output_type": "execute_result"
    }
   ],
   "source": [
    "S_knn7_pred"
   ]
  },
  {
   "cell_type": "markdown",
   "metadata": {},
   "source": [
    "### Neural Networks"
   ]
  },
  {
   "cell_type": "markdown",
   "metadata": {},
   "source": [
    "#### model 1"
   ]
  },
  {
   "cell_type": "code",
   "execution_count": 112,
   "metadata": {},
   "outputs": [
    {
     "name": "stdout",
     "output_type": "stream",
     "text": [
      "Epoch 1/100\n",
      "625/625 [==============================] - 1s 867us/step - loss: 0.4557 - accuracy: 0.7962\n",
      "Epoch 2/100\n",
      "625/625 [==============================] - 1s 867us/step - loss: 0.3248 - accuracy: 0.8662\n",
      "Epoch 3/100\n",
      "625/625 [==============================] - 1s 850us/step - loss: 0.2875 - accuracy: 0.8828\n",
      "Epoch 4/100\n",
      "625/625 [==============================] - 1s 867us/step - loss: 0.2642 - accuracy: 0.8934\n",
      "Epoch 5/100\n",
      "625/625 [==============================] - 1s 859us/step - loss: 0.2479 - accuracy: 0.9011\n",
      "Epoch 6/100\n",
      "625/625 [==============================] - 1s 858us/step - loss: 0.2353 - accuracy: 0.9061\n",
      "Epoch 7/100\n",
      "625/625 [==============================] - 1s 869us/step - loss: 0.2262 - accuracy: 0.9101\n",
      "Epoch 8/100\n",
      "625/625 [==============================] - 1s 854us/step - loss: 0.2183 - accuracy: 0.9133\n",
      "Epoch 9/100\n",
      "625/625 [==============================] - 1s 842us/step - loss: 0.2105 - accuracy: 0.9145\n",
      "Epoch 10/100\n",
      "625/625 [==============================] - 1s 840us/step - loss: 0.2051 - accuracy: 0.9166\n",
      "Epoch 11/100\n",
      "625/625 [==============================] - 1s 838us/step - loss: 0.1992 - accuracy: 0.9192\n",
      "Epoch 12/100\n",
      "625/625 [==============================] - 1s 843us/step - loss: 0.1950 - accuracy: 0.9193\n",
      "Epoch 13/100\n",
      "625/625 [==============================] - 1s 858us/step - loss: 0.1917 - accuracy: 0.9206\n",
      "Epoch 14/100\n",
      "625/625 [==============================] - 1s 853us/step - loss: 0.1880 - accuracy: 0.9220\n",
      "Epoch 15/100\n",
      "625/625 [==============================] - 1s 848us/step - loss: 0.1850 - accuracy: 0.9236\n",
      "Epoch 16/100\n",
      "625/625 [==============================] - 1s 910us/step - loss: 0.1824 - accuracy: 0.92370s - loss: 0.1877 \n",
      "Epoch 17/100\n",
      "625/625 [==============================] - 1s 923us/step - loss: 0.1802 - accuracy: 0.9252\n",
      "Epoch 18/100\n",
      "625/625 [==============================] - 1s 928us/step - loss: 0.1787 - accuracy: 0.9252\n",
      "Epoch 19/100\n",
      "625/625 [==============================] - 1s 893us/step - loss: 0.1781 - accuracy: 0.9254\n",
      "Epoch 20/100\n",
      "625/625 [==============================] - 1s 856us/step - loss: 0.1752 - accuracy: 0.9271\n",
      "Epoch 21/100\n",
      "625/625 [==============================] - 1s 846us/step - loss: 0.1734 - accuracy: 0.9285\n",
      "Epoch 22/100\n",
      "625/625 [==============================] - 1s 848us/step - loss: 0.1730 - accuracy: 0.9275\n",
      "Epoch 23/100\n",
      "625/625 [==============================] - 1s 854us/step - loss: 0.1714 - accuracy: 0.9276\n",
      "Epoch 24/100\n",
      "625/625 [==============================] - 1s 851us/step - loss: 0.1709 - accuracy: 0.9284\n",
      "Epoch 25/100\n",
      "625/625 [==============================] - 1s 851us/step - loss: 0.1695 - accuracy: 0.9295\n",
      "Epoch 26/100\n",
      "625/625 [==============================] - 1s 854us/step - loss: 0.1678 - accuracy: 0.9302\n",
      "Epoch 27/100\n",
      "625/625 [==============================] - 1s 878us/step - loss: 0.1674 - accuracy: 0.9297\n",
      "Epoch 28/100\n",
      "625/625 [==============================] - 1s 853us/step - loss: 0.1663 - accuracy: 0.9296\n",
      "Epoch 29/100\n",
      "625/625 [==============================] - 1s 846us/step - loss: 0.1661 - accuracy: 0.9305\n",
      "Epoch 30/100\n",
      "625/625 [==============================] - 1s 870us/step - loss: 0.1639 - accuracy: 0.92990s - loss: 0.158\n",
      "Epoch 31/100\n",
      "625/625 [==============================] - 1s 872us/step - loss: 0.1628 - accuracy: 0.9318\n",
      "Epoch 32/100\n",
      "625/625 [==============================] - 1s 877us/step - loss: 0.1633 - accuracy: 0.9316\n",
      "Epoch 33/100\n",
      "625/625 [==============================] - 1s 902us/step - loss: 0.1611 - accuracy: 0.9318\n",
      "Epoch 34/100\n",
      "625/625 [==============================] - 1s 872us/step - loss: 0.1603 - accuracy: 0.9334\n",
      "Epoch 35/100\n",
      "625/625 [==============================] - 1s 869us/step - loss: 0.1596 - accuracy: 0.9337\n",
      "Epoch 36/100\n",
      "625/625 [==============================] - 1s 870us/step - loss: 0.1593 - accuracy: 0.9324\n",
      "Epoch 37/100\n",
      "625/625 [==============================] - 1s 867us/step - loss: 0.1587 - accuracy: 0.9335\n",
      "Epoch 38/100\n",
      "625/625 [==============================] - 1s 869us/step - loss: 0.1583 - accuracy: 0.9339\n",
      "Epoch 39/100\n",
      "625/625 [==============================] - 1s 880us/step - loss: 0.1589 - accuracy: 0.9328\n",
      "Epoch 40/100\n",
      "625/625 [==============================] - 1s 882us/step - loss: 0.1572 - accuracy: 0.9333\n",
      "Epoch 41/100\n",
      "625/625 [==============================] - 1s 877us/step - loss: 0.1571 - accuracy: 0.9343\n",
      "Epoch 42/100\n",
      "625/625 [==============================] - 1s 893us/step - loss: 0.1556 - accuracy: 0.9331\n",
      "Epoch 43/100\n",
      "625/625 [==============================] - 1s 880us/step - loss: 0.1553 - accuracy: 0.9342\n",
      "Epoch 44/100\n",
      "625/625 [==============================] - 1s 885us/step - loss: 0.1551 - accuracy: 0.9342\n",
      "Epoch 45/100\n",
      "625/625 [==============================] - 1s 893us/step - loss: 0.1543 - accuracy: 0.9363\n",
      "Epoch 46/100\n",
      "625/625 [==============================] - 1s 888us/step - loss: 0.1545 - accuracy: 0.9343\n",
      "Epoch 47/100\n",
      "625/625 [==============================] - 1s 872us/step - loss: 0.1525 - accuracy: 0.9355\n",
      "Epoch 48/100\n",
      "625/625 [==============================] - 1s 870us/step - loss: 0.1525 - accuracy: 0.9355\n",
      "Epoch 49/100\n",
      "625/625 [==============================] - 1s 875us/step - loss: 0.1537 - accuracy: 0.9352\n",
      "Epoch 50/100\n",
      "625/625 [==============================] - 1s 893us/step - loss: 0.1516 - accuracy: 0.9355\n",
      "Epoch 51/100\n",
      "625/625 [==============================] - 1s 883us/step - loss: 0.1512 - accuracy: 0.9358\n",
      "Epoch 52/100\n",
      "625/625 [==============================] - 1s 862us/step - loss: 0.1513 - accuracy: 0.9357\n",
      "Epoch 53/100\n",
      "625/625 [==============================] - 1s 877us/step - loss: 0.1516 - accuracy: 0.9359\n",
      "Epoch 54/100\n",
      "625/625 [==============================] - 1s 883us/step - loss: 0.1499 - accuracy: 0.9364\n",
      "Epoch 55/100\n",
      "625/625 [==============================] - 1s 878us/step - loss: 0.1501 - accuracy: 0.9369\n",
      "Epoch 56/100\n",
      "625/625 [==============================] - 1s 870us/step - loss: 0.1502 - accuracy: 0.9373\n",
      "Epoch 57/100\n",
      "625/625 [==============================] - 1s 877us/step - loss: 0.1496 - accuracy: 0.9360\n",
      "Epoch 58/100\n",
      "625/625 [==============================] - 1s 888us/step - loss: 0.1501 - accuracy: 0.9363\n",
      "Epoch 59/100\n",
      "625/625 [==============================] - 1s 874us/step - loss: 0.1487 - accuracy: 0.9368\n",
      "Epoch 60/100\n",
      "625/625 [==============================] - 1s 869us/step - loss: 0.1489 - accuracy: 0.9359\n",
      "Epoch 61/100\n",
      "625/625 [==============================] - 1s 875us/step - loss: 0.1490 - accuracy: 0.9369\n",
      "Epoch 62/100\n",
      "625/625 [==============================] - 1s 878us/step - loss: 0.1474 - accuracy: 0.9380\n",
      "Epoch 63/100\n",
      "625/625 [==============================] - 1s 867us/step - loss: 0.1481 - accuracy: 0.9375\n",
      "Epoch 64/100\n",
      "625/625 [==============================] - 1s 886us/step - loss: 0.1466 - accuracy: 0.9391\n",
      "Epoch 65/100\n",
      "625/625 [==============================] - 1s 875us/step - loss: 0.1471 - accuracy: 0.9392\n",
      "Epoch 66/100\n",
      "625/625 [==============================] - 1s 866us/step - loss: 0.1463 - accuracy: 0.9382\n",
      "Epoch 67/100\n",
      "625/625 [==============================] - 1s 883us/step - loss: 0.1470 - accuracy: 0.9376\n",
      "Epoch 68/100\n",
      "625/625 [==============================] - 1s 875us/step - loss: 0.1455 - accuracy: 0.9387\n",
      "Epoch 69/100\n",
      "625/625 [==============================] - 1s 885us/step - loss: 0.1470 - accuracy: 0.9390\n",
      "Epoch 70/100\n",
      "625/625 [==============================] - 1s 872us/step - loss: 0.1458 - accuracy: 0.9396\n",
      "Epoch 71/100\n",
      "625/625 [==============================] - 1s 885us/step - loss: 0.1456 - accuracy: 0.9384\n",
      "Epoch 72/100\n",
      "625/625 [==============================] - 1s 872us/step - loss: 0.1451 - accuracy: 0.9391\n",
      "Epoch 73/100\n",
      "625/625 [==============================] - 1s 874us/step - loss: 0.1450 - accuracy: 0.9390\n",
      "Epoch 74/100\n",
      "625/625 [==============================] - 1s 874us/step - loss: 0.1447 - accuracy: 0.9375\n",
      "Epoch 75/100\n",
      "625/625 [==============================] - 1s 880us/step - loss: 0.1449 - accuracy: 0.9390\n",
      "Epoch 76/100\n",
      "625/625 [==============================] - 1s 877us/step - loss: 0.1452 - accuracy: 0.9387\n",
      "Epoch 77/100\n",
      "625/625 [==============================] - 1s 918us/step - loss: 0.1448 - accuracy: 0.9387\n",
      "Epoch 78/100\n",
      "625/625 [==============================] - 1s 907us/step - loss: 0.1441 - accuracy: 0.9391\n",
      "Epoch 79/100\n",
      "625/625 [==============================] - 1s 858us/step - loss: 0.1443 - accuracy: 0.9385\n",
      "Epoch 80/100\n",
      "625/625 [==============================] - 1s 851us/step - loss: 0.1436 - accuracy: 0.9389\n",
      "Epoch 81/100\n",
      "625/625 [==============================] - 1s 874us/step - loss: 0.1435 - accuracy: 0.9388\n",
      "Epoch 82/100\n",
      "625/625 [==============================] - 1s 872us/step - loss: 0.1437 - accuracy: 0.9385\n",
      "Epoch 83/100\n",
      "625/625 [==============================] - 1s 874us/step - loss: 0.1429 - accuracy: 0.9398\n",
      "Epoch 84/100\n",
      "625/625 [==============================] - 1s 869us/step - loss: 0.1437 - accuracy: 0.9384\n",
      "Epoch 85/100\n",
      "625/625 [==============================] - 1s 893us/step - loss: 0.1427 - accuracy: 0.9396\n",
      "Epoch 86/100\n",
      "625/625 [==============================] - 1s 885us/step - loss: 0.1425 - accuracy: 0.9389\n",
      "Epoch 87/100\n",
      "625/625 [==============================] - 1s 907us/step - loss: 0.1430 - accuracy: 0.9391\n",
      "Epoch 88/100\n",
      "625/625 [==============================] - 1s 891us/step - loss: 0.1419 - accuracy: 0.9402\n",
      "Epoch 89/100\n",
      "625/625 [==============================] - 1s 874us/step - loss: 0.1426 - accuracy: 0.9393\n",
      "Epoch 90/100\n",
      "625/625 [==============================] - 1s 867us/step - loss: 0.1428 - accuracy: 0.9393\n",
      "Epoch 91/100\n",
      "625/625 [==============================] - 1s 875us/step - loss: 0.1424 - accuracy: 0.9391\n",
      "Epoch 92/100\n",
      "625/625 [==============================] - 1s 869us/step - loss: 0.1422 - accuracy: 0.9399\n",
      "Epoch 93/100\n",
      "625/625 [==============================] - 1s 870us/step - loss: 0.1422 - accuracy: 0.9398\n",
      "Epoch 94/100\n",
      "625/625 [==============================] - 1s 925us/step - loss: 0.1416 - accuracy: 0.9395\n",
      "Epoch 95/100\n",
      "625/625 [==============================] - 1s 909us/step - loss: 0.1422 - accuracy: 0.9392\n",
      "Epoch 96/100\n",
      "625/625 [==============================] - 1s 912us/step - loss: 0.1415 - accuracy: 0.9394\n",
      "Epoch 97/100\n",
      "625/625 [==============================] - 1s 878us/step - loss: 0.1418 - accuracy: 0.9410\n",
      "Epoch 98/100\n",
      "625/625 [==============================] - 1s 883us/step - loss: 0.1414 - accuracy: 0.9401\n",
      "Epoch 99/100\n",
      "625/625 [==============================] - 1s 869us/step - loss: 0.1410 - accuracy: 0.9393\n",
      "Epoch 100/100\n",
      "625/625 [==============================] - 1s 904us/step - loss: 0.1409 - accuracy: 0.9407\n"
     ]
    },
    {
     "data": {
      "text/plain": [
       "<keras.callbacks.History at 0x20948984548>"
      ]
     },
     "execution_count": 112,
     "metadata": {},
     "output_type": "execute_result"
    }
   ],
   "source": [
    "B_NN1 = Sequential()\n",
    "B_NN1.add(Dense(32, activation='relu', input_dim=Org_X.shape[1]))\n",
    "B_NN1.add(Dense(1, activation='sigmoid'))\n",
    "B_NN1.compile(loss='binary_crossentropy', optimizer='adam', metrics=['accuracy'])\n",
    "\n",
    "B_NN1.fit(Both_X, Both_y, epochs=100)"
   ]
  },
  {
   "cell_type": "code",
   "execution_count": 114,
   "metadata": {},
   "outputs": [
    {
     "name": "stdout",
     "output_type": "stream",
     "text": [
      "810/810 [==============================] - 1s 692us/step - loss: 0.1690 - accuracy: 0.9301\n"
     ]
    },
    {
     "data": {
      "text/plain": [
       "[0.16903634369373322, 0.9300969243049622]"
      ]
     },
     "execution_count": 114,
     "metadata": {},
     "output_type": "execute_result"
    }
   ],
   "source": [
    "scores = B_NN1.evaluate(test_X, test_y)\n",
    "scores"
   ]
  },
  {
   "cell_type": "code",
   "execution_count": 115,
   "metadata": {},
   "outputs": [
    {
     "name": "stdout",
     "output_type": "stream",
     "text": [
      "Epoch 1/100\n",
      "313/313 [==============================] - 1s 859us/step - loss: 0.5279 - accuracy: 0.7501\n",
      "Epoch 2/100\n",
      "313/313 [==============================] - 0s 875us/step - loss: 0.4051 - accuracy: 0.8214\n",
      "Epoch 3/100\n",
      "313/313 [==============================] - 0s 853us/step - loss: 0.3707 - accuracy: 0.8478\n",
      "Epoch 4/100\n",
      "313/313 [==============================] - 0s 862us/step - loss: 0.3382 - accuracy: 0.8647\n",
      "Epoch 5/100\n",
      "313/313 [==============================] - 0s 875us/step - loss: 0.3120 - accuracy: 0.8771\n",
      "Epoch 6/100\n",
      "313/313 [==============================] - 0s 872us/step - loss: 0.2918 - accuracy: 0.8862\n",
      "Epoch 7/100\n",
      "313/313 [==============================] - 0s 901us/step - loss: 0.2742 - accuracy: 0.8935\n",
      "Epoch 8/100\n",
      "313/313 [==============================] - 0s 898us/step - loss: 0.2603 - accuracy: 0.8990\n",
      "Epoch 9/100\n",
      "313/313 [==============================] - 0s 872us/step - loss: 0.2501 - accuracy: 0.9025\n",
      "Epoch 10/100\n",
      "313/313 [==============================] - 0s 917us/step - loss: 0.2399 - accuracy: 0.9077\n",
      "Epoch 11/100\n",
      "313/313 [==============================] - 0s 904us/step - loss: 0.2322 - accuracy: 0.9095\n",
      "Epoch 12/100\n",
      "313/313 [==============================] - 0s 875us/step - loss: 0.2260 - accuracy: 0.9096\n",
      "Epoch 13/100\n",
      "313/313 [==============================] - 0s 872us/step - loss: 0.2201 - accuracy: 0.9135\n",
      "Epoch 14/100\n",
      "313/313 [==============================] - 0s 885us/step - loss: 0.2156 - accuracy: 0.9159\n",
      "Epoch 15/100\n",
      "313/313 [==============================] - 0s 872us/step - loss: 0.2119 - accuracy: 0.91440s - loss: 0.2106 - accuracy\n",
      "Epoch 16/100\n",
      "313/313 [==============================] - 0s 869us/step - loss: 0.2079 - accuracy: 0.9166\n",
      "Epoch 17/100\n",
      "313/313 [==============================] - 0s 875us/step - loss: 0.2051 - accuracy: 0.9178\n",
      "Epoch 18/100\n",
      "313/313 [==============================] - 0s 866us/step - loss: 0.2027 - accuracy: 0.9186\n",
      "Epoch 19/100\n",
      "313/313 [==============================] - 0s 859us/step - loss: 0.1988 - accuracy: 0.9192\n",
      "Epoch 20/100\n",
      "313/313 [==============================] - 0s 875us/step - loss: 0.1986 - accuracy: 0.9196\n",
      "Epoch 21/100\n",
      "313/313 [==============================] - 0s 869us/step - loss: 0.1955 - accuracy: 0.9228\n",
      "Epoch 22/100\n",
      "313/313 [==============================] - 0s 878us/step - loss: 0.1914 - accuracy: 0.9239\n",
      "Epoch 23/100\n",
      "313/313 [==============================] - 0s 878us/step - loss: 0.1906 - accuracy: 0.9237\n",
      "Epoch 24/100\n",
      "313/313 [==============================] - 0s 894us/step - loss: 0.1887 - accuracy: 0.92250s - loss: 0.1857 - accuracy: \n",
      "Epoch 25/100\n",
      "313/313 [==============================] - 0s 882us/step - loss: 0.1882 - accuracy: 0.9236\n",
      "Epoch 26/100\n",
      "313/313 [==============================] - 0s 856us/step - loss: 0.1846 - accuracy: 0.9247\n",
      "Epoch 27/100\n",
      "313/313 [==============================] - 0s 894us/step - loss: 0.1829 - accuracy: 0.9260\n",
      "Epoch 28/100\n",
      "313/313 [==============================] - 0s 898us/step - loss: 0.1830 - accuracy: 0.9265\n",
      "Epoch 29/100\n",
      "313/313 [==============================] - 0s 898us/step - loss: 0.1811 - accuracy: 0.9272\n",
      "Epoch 30/100\n",
      "313/313 [==============================] - 0s 936us/step - loss: 0.1784 - accuracy: 0.9285\n",
      "Epoch 31/100\n",
      "313/313 [==============================] - 0s 930us/step - loss: 0.1778 - accuracy: 0.9284\n",
      "Epoch 32/100\n",
      "313/313 [==============================] - 0s 952us/step - loss: 0.1744 - accuracy: 0.9306\n",
      "Epoch 33/100\n",
      "313/313 [==============================] - 0s 869us/step - loss: 0.1744 - accuracy: 0.9308\n",
      "Epoch 34/100\n",
      "313/313 [==============================] - 0s 853us/step - loss: 0.1725 - accuracy: 0.9299\n",
      "Epoch 35/100\n",
      "313/313 [==============================] - 0s 850us/step - loss: 0.1715 - accuracy: 0.9320\n",
      "Epoch 36/100\n",
      "313/313 [==============================] - 0s 843us/step - loss: 0.1696 - accuracy: 0.9317\n",
      "Epoch 37/100\n",
      "313/313 [==============================] - 0s 856us/step - loss: 0.1676 - accuracy: 0.9324\n",
      "Epoch 38/100\n",
      "313/313 [==============================] - 0s 853us/step - loss: 0.1678 - accuracy: 0.9344\n",
      "Epoch 39/100\n",
      "313/313 [==============================] - 0s 853us/step - loss: 0.1672 - accuracy: 0.9333\n",
      "Epoch 40/100\n",
      "313/313 [==============================] - 0s 866us/step - loss: 0.1665 - accuracy: 0.9339\n",
      "Epoch 41/100\n",
      "313/313 [==============================] - 0s 859us/step - loss: 0.1656 - accuracy: 0.9338\n",
      "Epoch 42/100\n",
      "313/313 [==============================] - 0s 856us/step - loss: 0.1633 - accuracy: 0.9349\n",
      "Epoch 43/100\n",
      "313/313 [==============================] - 0s 872us/step - loss: 0.1630 - accuracy: 0.9353\n",
      "Epoch 44/100\n",
      "313/313 [==============================] - 0s 856us/step - loss: 0.1611 - accuracy: 0.9356\n",
      "Epoch 45/100\n",
      "313/313 [==============================] - 0s 856us/step - loss: 0.1601 - accuracy: 0.9358\n",
      "Epoch 46/100\n",
      "313/313 [==============================] - 0s 843us/step - loss: 0.1602 - accuracy: 0.9375\n",
      "Epoch 47/100\n",
      "313/313 [==============================] - 0s 843us/step - loss: 0.1587 - accuracy: 0.9376\n",
      "Epoch 48/100\n",
      "313/313 [==============================] - 0s 885us/step - loss: 0.1594 - accuracy: 0.9359\n",
      "Epoch 49/100\n",
      "313/313 [==============================] - 0s 859us/step - loss: 0.1565 - accuracy: 0.9388\n",
      "Epoch 50/100\n",
      "313/313 [==============================] - 0s 885us/step - loss: 0.1559 - accuracy: 0.9373\n",
      "Epoch 51/100\n",
      "313/313 [==============================] - 0s 862us/step - loss: 0.1563 - accuracy: 0.9376\n",
      "Epoch 52/100\n",
      "313/313 [==============================] - 0s 853us/step - loss: 0.1544 - accuracy: 0.9366\n",
      "Epoch 53/100\n",
      "313/313 [==============================] - 0s 862us/step - loss: 0.1545 - accuracy: 0.9378\n",
      "Epoch 54/100\n",
      "313/313 [==============================] - 0s 862us/step - loss: 0.1536 - accuracy: 0.9371\n",
      "Epoch 55/100\n",
      "313/313 [==============================] - 0s 856us/step - loss: 0.1539 - accuracy: 0.9364\n",
      "Epoch 56/100\n",
      "313/313 [==============================] - 0s 859us/step - loss: 0.1519 - accuracy: 0.9394\n",
      "Epoch 57/100\n",
      "313/313 [==============================] - 0s 872us/step - loss: 0.1514 - accuracy: 0.9404\n",
      "Epoch 58/100\n",
      "313/313 [==============================] - 0s 869us/step - loss: 0.1514 - accuracy: 0.9404\n",
      "Epoch 59/100\n",
      "313/313 [==============================] - 0s 862us/step - loss: 0.1525 - accuracy: 0.9384\n",
      "Epoch 60/100\n",
      "313/313 [==============================] - 0s 853us/step - loss: 0.1494 - accuracy: 0.9406\n",
      "Epoch 61/100\n",
      "313/313 [==============================] - 0s 850us/step - loss: 0.1477 - accuracy: 0.9409\n",
      "Epoch 62/100\n",
      "313/313 [==============================] - 0s 859us/step - loss: 0.1477 - accuracy: 0.9408\n",
      "Epoch 63/100\n",
      "313/313 [==============================] - 0s 872us/step - loss: 0.1478 - accuracy: 0.9389\n",
      "Epoch 64/100\n",
      "313/313 [==============================] - 0s 846us/step - loss: 0.1460 - accuracy: 0.9418\n",
      "Epoch 65/100\n",
      "313/313 [==============================] - 0s 856us/step - loss: 0.1463 - accuracy: 0.9418\n",
      "Epoch 66/100\n",
      "313/313 [==============================] - 0s 862us/step - loss: 0.1459 - accuracy: 0.9429\n",
      "Epoch 67/100\n",
      "313/313 [==============================] - 0s 869us/step - loss: 0.1461 - accuracy: 0.9420\n",
      "Epoch 68/100\n",
      "313/313 [==============================] - 0s 885us/step - loss: 0.1449 - accuracy: 0.9418\n",
      "Epoch 69/100\n",
      "313/313 [==============================] - 0s 872us/step - loss: 0.1453 - accuracy: 0.9419\n",
      "Epoch 70/100\n",
      "313/313 [==============================] - 0s 846us/step - loss: 0.1447 - accuracy: 0.9435\n",
      "Epoch 71/100\n",
      "313/313 [==============================] - 0s 850us/step - loss: 0.1441 - accuracy: 0.9421\n",
      "Epoch 72/100\n",
      "313/313 [==============================] - 0s 853us/step - loss: 0.1442 - accuracy: 0.9428\n",
      "Epoch 73/100\n",
      "313/313 [==============================] - 0s 853us/step - loss: 0.1428 - accuracy: 0.9442\n",
      "Epoch 74/100\n",
      "313/313 [==============================] - 0s 859us/step - loss: 0.1433 - accuracy: 0.9425\n",
      "Epoch 75/100\n",
      "313/313 [==============================] - 0s 850us/step - loss: 0.1424 - accuracy: 0.9447\n",
      "Epoch 76/100\n",
      "313/313 [==============================] - 0s 866us/step - loss: 0.1416 - accuracy: 0.9431\n",
      "Epoch 77/100\n",
      "313/313 [==============================] - 0s 850us/step - loss: 0.1407 - accuracy: 0.9433\n",
      "Epoch 78/100\n",
      "313/313 [==============================] - 0s 850us/step - loss: 0.1418 - accuracy: 0.9431\n",
      "Epoch 79/100\n",
      "313/313 [==============================] - 0s 853us/step - loss: 0.1405 - accuracy: 0.9443\n",
      "Epoch 80/100\n",
      "313/313 [==============================] - 0s 869us/step - loss: 0.1408 - accuracy: 0.9448\n",
      "Epoch 81/100\n",
      "313/313 [==============================] - 0s 840us/step - loss: 0.1397 - accuracy: 0.9440\n",
      "Epoch 82/100\n",
      "313/313 [==============================] - 0s 853us/step - loss: 0.1396 - accuracy: 0.9428\n",
      "Epoch 83/100\n",
      "313/313 [==============================] - 0s 846us/step - loss: 0.1402 - accuracy: 0.9447\n",
      "Epoch 84/100\n",
      "313/313 [==============================] - 0s 859us/step - loss: 0.1398 - accuracy: 0.9423\n",
      "Epoch 85/100\n",
      "313/313 [==============================] - 0s 862us/step - loss: 0.1391 - accuracy: 0.9448\n",
      "Epoch 86/100\n",
      "313/313 [==============================] - 0s 846us/step - loss: 0.1384 - accuracy: 0.94560s - loss: 0.1395 - accuracy\n",
      "Epoch 87/100\n",
      "313/313 [==============================] - 0s 843us/step - loss: 0.1380 - accuracy: 0.9430\n",
      "Epoch 88/100\n",
      "313/313 [==============================] - 0s 843us/step - loss: 0.1382 - accuracy: 0.9441\n",
      "Epoch 89/100\n",
      "313/313 [==============================] - 0s 843us/step - loss: 0.1370 - accuracy: 0.9458\n",
      "Epoch 90/100\n",
      "313/313 [==============================] - 0s 846us/step - loss: 0.1368 - accuracy: 0.9451\n",
      "Epoch 91/100\n",
      "313/313 [==============================] - 0s 859us/step - loss: 0.1366 - accuracy: 0.9459\n",
      "Epoch 92/100\n",
      "313/313 [==============================] - 0s 837us/step - loss: 0.1362 - accuracy: 0.9455\n",
      "Epoch 93/100\n",
      "313/313 [==============================] - 0s 853us/step - loss: 0.1377 - accuracy: 0.9455\n",
      "Epoch 94/100\n",
      "313/313 [==============================] - 0s 837us/step - loss: 0.1361 - accuracy: 0.9464\n",
      "Epoch 95/100\n",
      "313/313 [==============================] - 0s 862us/step - loss: 0.1355 - accuracy: 0.9475\n",
      "Epoch 96/100\n",
      "313/313 [==============================] - 0s 840us/step - loss: 0.1355 - accuracy: 0.9465\n",
      "Epoch 97/100\n",
      "313/313 [==============================] - 0s 866us/step - loss: 0.1360 - accuracy: 0.9463\n",
      "Epoch 98/100\n",
      "313/313 [==============================] - 0s 850us/step - loss: 0.1374 - accuracy: 0.9464\n",
      "Epoch 99/100\n",
      "313/313 [==============================] - 0s 853us/step - loss: 0.1359 - accuracy: 0.9461\n",
      "Epoch 100/100\n",
      "313/313 [==============================] - 0s 859us/step - loss: 0.1347 - accuracy: 0.9461\n"
     ]
    },
    {
     "data": {
      "text/plain": [
       "<keras.callbacks.History at 0x209488ae7c8>"
      ]
     },
     "execution_count": 115,
     "metadata": {},
     "output_type": "execute_result"
    }
   ],
   "source": [
    "O_NN1 = Sequential()\n",
    "O_NN1.add(Dense(32, activation='relu', input_dim=Org_X.shape[1]))\n",
    "O_NN1.add(Dense(1, activation='sigmoid'))\n",
    "O_NN1.compile(loss='binary_crossentropy', optimizer='adam', metrics=['accuracy'])\n",
    "\n",
    "O_NN1.fit(Org_X, Org_y, epochs=100)"
   ]
  },
  {
   "cell_type": "code",
   "execution_count": 117,
   "metadata": {},
   "outputs": [
    {
     "name": "stdout",
     "output_type": "stream",
     "text": [
      "810/810 [==============================] - 1s 687us/step - loss: 0.1463 - accuracy: 0.9406\n"
     ]
    },
    {
     "data": {
      "text/plain": [
       "[0.14626967906951904, 0.9406017065048218]"
      ]
     },
     "execution_count": 117,
     "metadata": {},
     "output_type": "execute_result"
    }
   ],
   "source": [
    "scores = O_NN1.evaluate(test_X, test_y)\n",
    "scores"
   ]
  },
  {
   "cell_type": "code",
   "execution_count": 118,
   "metadata": {},
   "outputs": [
    {
     "name": "stdout",
     "output_type": "stream",
     "text": [
      "Epoch 1/100\n",
      "313/313 [==============================] - 1s 853us/step - loss: 0.4241 - accuracy: 0.8160\n",
      "Epoch 2/100\n",
      "313/313 [==============================] - 0s 846us/step - loss: 0.2046 - accuracy: 0.9270\n",
      "Epoch 3/100\n",
      "313/313 [==============================] - 0s 859us/step - loss: 0.1649 - accuracy: 0.9346\n",
      "Epoch 4/100\n",
      "313/313 [==============================] - 0s 850us/step - loss: 0.1514 - accuracy: 0.9359\n",
      "Epoch 5/100\n",
      "313/313 [==============================] - 0s 898us/step - loss: 0.1441 - accuracy: 0.9390\n",
      "Epoch 6/100\n",
      "313/313 [==============================] - 0s 888us/step - loss: 0.1412 - accuracy: 0.9372\n",
      "Epoch 7/100\n",
      "313/313 [==============================] - 0s 872us/step - loss: 0.1390 - accuracy: 0.9375\n",
      "Epoch 8/100\n",
      "313/313 [==============================] - 0s 894us/step - loss: 0.1376 - accuracy: 0.9402\n",
      "Epoch 9/100\n",
      "313/313 [==============================] - 0s 882us/step - loss: 0.1369 - accuracy: 0.9379\n",
      "Epoch 10/100\n",
      "313/313 [==============================] - 0s 872us/step - loss: 0.1355 - accuracy: 0.9391\n",
      "Epoch 11/100\n",
      "313/313 [==============================] - 0s 894us/step - loss: 0.1352 - accuracy: 0.9393\n",
      "Epoch 12/100\n",
      "313/313 [==============================] - 0s 872us/step - loss: 0.1357 - accuracy: 0.9390\n",
      "Epoch 13/100\n",
      "313/313 [==============================] - 0s 891us/step - loss: 0.1348 - accuracy: 0.9398\n",
      "Epoch 14/100\n",
      "313/313 [==============================] - 0s 901us/step - loss: 0.1342 - accuracy: 0.93830s - loss: 0.1242 - accuracy\n",
      "Epoch 15/100\n",
      "313/313 [==============================] - 0s 882us/step - loss: 0.1348 - accuracy: 0.9401\n",
      "Epoch 16/100\n",
      "313/313 [==============================] - 0s 898us/step - loss: 0.1328 - accuracy: 0.9396\n",
      "Epoch 17/100\n",
      "313/313 [==============================] - 0s 875us/step - loss: 0.1332 - accuracy: 0.9390\n",
      "Epoch 18/100\n",
      "313/313 [==============================] - 0s 901us/step - loss: 0.1335 - accuracy: 0.9398\n",
      "Epoch 19/100\n",
      "313/313 [==============================] - 0s 1ms/step - loss: 0.1324 - accuracy: 0.9405\n",
      "Epoch 20/100\n",
      "313/313 [==============================] - 0s 898us/step - loss: 0.1332 - accuracy: 0.9408\n",
      "Epoch 21/100\n",
      "313/313 [==============================] - 0s 866us/step - loss: 0.1332 - accuracy: 0.9397\n",
      "Epoch 22/100\n",
      "313/313 [==============================] - 0s 894us/step - loss: 0.1321 - accuracy: 0.9402\n",
      "Epoch 23/100\n",
      "313/313 [==============================] - 0s 885us/step - loss: 0.1323 - accuracy: 0.9399\n",
      "Epoch 24/100\n",
      "313/313 [==============================] - 0s 872us/step - loss: 0.1325 - accuracy: 0.9402\n",
      "Epoch 25/100\n",
      "313/313 [==============================] - 0s 894us/step - loss: 0.1313 - accuracy: 0.9401\n",
      "Epoch 26/100\n",
      "313/313 [==============================] - 0s 882us/step - loss: 0.1319 - accuracy: 0.9405\n",
      "Epoch 27/100\n",
      "313/313 [==============================] - 0s 907us/step - loss: 0.1320 - accuracy: 0.9395\n",
      "Epoch 28/100\n",
      "313/313 [==============================] - 0s 875us/step - loss: 0.1317 - accuracy: 0.9400\n",
      "Epoch 29/100\n",
      "313/313 [==============================] - 0s 872us/step - loss: 0.1321 - accuracy: 0.9409\n",
      "Epoch 30/100\n",
      "313/313 [==============================] - 0s 933us/step - loss: 0.1313 - accuracy: 0.9402\n",
      "Epoch 31/100\n",
      "313/313 [==============================] - 0s 872us/step - loss: 0.1321 - accuracy: 0.9421\n",
      "Epoch 32/100\n",
      "313/313 [==============================] - 0s 888us/step - loss: 0.1312 - accuracy: 0.9393\n",
      "Epoch 33/100\n",
      "313/313 [==============================] - 0s 869us/step - loss: 0.1310 - accuracy: 0.9408\n",
      "Epoch 34/100\n",
      "313/313 [==============================] - 0s 878us/step - loss: 0.1312 - accuracy: 0.9394\n",
      "Epoch 35/100\n",
      "313/313 [==============================] - 0s 888us/step - loss: 0.1316 - accuracy: 0.9398\n",
      "Epoch 36/100\n",
      "313/313 [==============================] - 0s 914us/step - loss: 0.1307 - accuracy: 0.9376\n",
      "Epoch 37/100\n",
      "313/313 [==============================] - 0s 885us/step - loss: 0.1310 - accuracy: 0.9397\n",
      "Epoch 38/100\n",
      "313/313 [==============================] - 0s 917us/step - loss: 0.1310 - accuracy: 0.9394\n",
      "Epoch 39/100\n",
      "313/313 [==============================] - 0s 808us/step - loss: 0.1308 - accuracy: 0.9409\n",
      "Epoch 40/100\n",
      "313/313 [==============================] - 0s 888us/step - loss: 0.1303 - accuracy: 0.9400\n",
      "Epoch 41/100\n",
      "313/313 [==============================] - 0s 846us/step - loss: 0.1305 - accuracy: 0.9400\n",
      "Epoch 42/100\n",
      "313/313 [==============================] - 0s 869us/step - loss: 0.1308 - accuracy: 0.9386\n",
      "Epoch 43/100\n",
      "313/313 [==============================] - 0s 866us/step - loss: 0.1303 - accuracy: 0.9393\n",
      "Epoch 44/100\n",
      "313/313 [==============================] - 0s 853us/step - loss: 0.1312 - accuracy: 0.9394\n",
      "Epoch 45/100\n",
      "313/313 [==============================] - 0s 856us/step - loss: 0.1308 - accuracy: 0.9386\n",
      "Epoch 46/100\n",
      "313/313 [==============================] - 0s 904us/step - loss: 0.1312 - accuracy: 0.9389\n",
      "Epoch 47/100\n",
      "313/313 [==============================] - 0s 878us/step - loss: 0.1306 - accuracy: 0.9397\n",
      "Epoch 48/100\n",
      "313/313 [==============================] - 0s 917us/step - loss: 0.1311 - accuracy: 0.9412\n",
      "Epoch 49/100\n",
      "313/313 [==============================] - 0s 846us/step - loss: 0.1306 - accuracy: 0.9392\n",
      "Epoch 50/100\n",
      "313/313 [==============================] - 0s 914us/step - loss: 0.1306 - accuracy: 0.9408\n",
      "Epoch 51/100\n",
      "313/313 [==============================] - 0s 891us/step - loss: 0.1303 - accuracy: 0.9390\n",
      "Epoch 52/100\n",
      "313/313 [==============================] - 0s 891us/step - loss: 0.1310 - accuracy: 0.9399\n",
      "Epoch 53/100\n",
      "313/313 [==============================] - 0s 824us/step - loss: 0.1313 - accuracy: 0.9394\n",
      "Epoch 54/100\n",
      "313/313 [==============================] - 0s 817us/step - loss: 0.1305 - accuracy: 0.9413\n",
      "Epoch 55/100\n",
      "313/313 [==============================] - 0s 817us/step - loss: 0.1311 - accuracy: 0.9398\n",
      "Epoch 56/100\n",
      "313/313 [==============================] - 0s 805us/step - loss: 0.1301 - accuracy: 0.9407\n",
      "Epoch 57/100\n",
      "313/313 [==============================] - 0s 814us/step - loss: 0.1306 - accuracy: 0.9395\n",
      "Epoch 58/100\n",
      "313/313 [==============================] - 0s 808us/step - loss: 0.1305 - accuracy: 0.9397\n",
      "Epoch 59/100\n",
      "313/313 [==============================] - 0s 814us/step - loss: 0.1293 - accuracy: 0.9396\n",
      "Epoch 60/100\n",
      "313/313 [==============================] - 0s 811us/step - loss: 0.1300 - accuracy: 0.9396\n",
      "Epoch 61/100\n",
      "313/313 [==============================] - 0s 853us/step - loss: 0.1308 - accuracy: 0.9391\n",
      "Epoch 62/100\n",
      "313/313 [==============================] - 0s 872us/step - loss: 0.1303 - accuracy: 0.9385\n",
      "Epoch 63/100\n",
      "313/313 [==============================] - 0s 840us/step - loss: 0.1295 - accuracy: 0.9413\n",
      "Epoch 64/100\n",
      "313/313 [==============================] - 0s 866us/step - loss: 0.1299 - accuracy: 0.9404\n",
      "Epoch 65/100\n",
      "313/313 [==============================] - 0s 814us/step - loss: 0.1302 - accuracy: 0.9391\n",
      "Epoch 66/100\n",
      "313/313 [==============================] - 0s 824us/step - loss: 0.1307 - accuracy: 0.9402\n",
      "Epoch 67/100\n",
      "313/313 [==============================] - 0s 898us/step - loss: 0.1297 - accuracy: 0.9410\n",
      "Epoch 68/100\n",
      "313/313 [==============================] - 0s 869us/step - loss: 0.1302 - accuracy: 0.9406\n",
      "Epoch 69/100\n",
      "313/313 [==============================] - 0s 888us/step - loss: 0.1305 - accuracy: 0.9410\n",
      "Epoch 70/100\n",
      "313/313 [==============================] - 0s 834us/step - loss: 0.1307 - accuracy: 0.9392\n",
      "Epoch 71/100\n",
      "313/313 [==============================] - 0s 859us/step - loss: 0.1291 - accuracy: 0.9390\n",
      "Epoch 72/100\n",
      "313/313 [==============================] - 0s 837us/step - loss: 0.1310 - accuracy: 0.9389\n",
      "Epoch 73/100\n",
      "313/313 [==============================] - 0s 904us/step - loss: 0.1308 - accuracy: 0.9402\n",
      "Epoch 74/100\n",
      "313/313 [==============================] - 0s 872us/step - loss: 0.1305 - accuracy: 0.9409\n",
      "Epoch 75/100\n",
      "313/313 [==============================] - 0s 859us/step - loss: 0.1298 - accuracy: 0.9406\n",
      "Epoch 76/100\n",
      "313/313 [==============================] - 0s 805us/step - loss: 0.1302 - accuracy: 0.9403\n",
      "Epoch 77/100\n",
      "313/313 [==============================] - 0s 846us/step - loss: 0.1305 - accuracy: 0.9379\n",
      "Epoch 78/100\n",
      "313/313 [==============================] - 0s 830us/step - loss: 0.1298 - accuracy: 0.9409\n",
      "Epoch 79/100\n",
      "313/313 [==============================] - 0s 814us/step - loss: 0.1300 - accuracy: 0.9408\n",
      "Epoch 80/100\n",
      "313/313 [==============================] - 0s 824us/step - loss: 0.1298 - accuracy: 0.9400\n",
      "Epoch 81/100\n",
      "313/313 [==============================] - 0s 904us/step - loss: 0.1293 - accuracy: 0.9414\n",
      "Epoch 82/100\n",
      "313/313 [==============================] - 0s 824us/step - loss: 0.1297 - accuracy: 0.9403\n",
      "Epoch 83/100\n",
      "313/313 [==============================] - 0s 894us/step - loss: 0.1287 - accuracy: 0.9394\n",
      "Epoch 84/100\n",
      "313/313 [==============================] - 0s 843us/step - loss: 0.1294 - accuracy: 0.9403\n",
      "Epoch 85/100\n",
      "313/313 [==============================] - 0s 910us/step - loss: 0.1291 - accuracy: 0.9406\n",
      "Epoch 86/100\n",
      "313/313 [==============================] - 0s 837us/step - loss: 0.1296 - accuracy: 0.9404\n",
      "Epoch 87/100\n",
      "313/313 [==============================] - 0s 814us/step - loss: 0.1291 - accuracy: 0.9411\n",
      "Epoch 88/100\n",
      "313/313 [==============================] - 0s 901us/step - loss: 0.1286 - accuracy: 0.9414\n",
      "Epoch 89/100\n",
      "313/313 [==============================] - 0s 853us/step - loss: 0.1295 - accuracy: 0.9419\n",
      "Epoch 90/100\n",
      "313/313 [==============================] - 0s 798us/step - loss: 0.1296 - accuracy: 0.9416\n",
      "Epoch 91/100\n",
      "313/313 [==============================] - 0s 817us/step - loss: 0.1302 - accuracy: 0.9399\n",
      "Epoch 92/100\n",
      "313/313 [==============================] - 0s 808us/step - loss: 0.1298 - accuracy: 0.9414\n",
      "Epoch 93/100\n",
      "313/313 [==============================] - 0s 814us/step - loss: 0.1293 - accuracy: 0.9411\n",
      "Epoch 94/100\n",
      "313/313 [==============================] - 0s 808us/step - loss: 0.1291 - accuracy: 0.9404\n",
      "Epoch 95/100\n",
      "313/313 [==============================] - 0s 824us/step - loss: 0.1289 - accuracy: 0.9409\n",
      "Epoch 96/100\n",
      "313/313 [==============================] - 0s 814us/step - loss: 0.1289 - accuracy: 0.9409\n",
      "Epoch 97/100\n",
      "313/313 [==============================] - 0s 821us/step - loss: 0.1293 - accuracy: 0.9401\n",
      "Epoch 98/100\n",
      "313/313 [==============================] - 0s 801us/step - loss: 0.1293 - accuracy: 0.9399\n",
      "Epoch 99/100\n",
      "313/313 [==============================] - 0s 824us/step - loss: 0.1304 - accuracy: 0.9407\n",
      "Epoch 100/100\n",
      "313/313 [==============================] - 0s 805us/step - loss: 0.1293 - accuracy: 0.9407\n"
     ]
    },
    {
     "data": {
      "text/plain": [
       "<keras.callbacks.History at 0x2094084c1c8>"
      ]
     },
     "execution_count": 118,
     "metadata": {},
     "output_type": "execute_result"
    }
   ],
   "source": [
    "S_NN1 = Sequential()\n",
    "S_NN1.add(Dense(32, activation='relu', input_dim=Org_X.shape[1]))\n",
    "S_NN1.add(Dense(1, activation='sigmoid'))\n",
    "S_NN1.compile(loss='binary_crossentropy', optimizer='adam', metrics=['accuracy'])\n",
    "\n",
    "S_NN1.fit(Syn_X, Syn_y, epochs=100)"
   ]
  },
  {
   "cell_type": "code",
   "execution_count": 119,
   "metadata": {},
   "outputs": [
    {
     "name": "stdout",
     "output_type": "stream",
     "text": [
      "810/810 [==============================] - 1s 650us/step - loss: 1.9932 - accuracy: 0.5836\n"
     ]
    },
    {
     "data": {
      "text/plain": [
       "[1.993186354637146, 0.583594024181366]"
      ]
     },
     "execution_count": 119,
     "metadata": {},
     "output_type": "execute_result"
    }
   ],
   "source": [
    "scores = S_NN1.evaluate(test_X, test_y)\n",
    "scores"
   ]
  },
  {
   "cell_type": "markdown",
   "metadata": {},
   "source": [
    "#### model 2"
   ]
  },
  {
   "cell_type": "code",
   "execution_count": 120,
   "metadata": {},
   "outputs": [
    {
     "name": "stdout",
     "output_type": "stream",
     "text": [
      "Epoch 1/100\n",
      "625/625 [==============================] - 1s 893us/step - loss: 0.4157 - accuracy: 0.8066\n",
      "Epoch 2/100\n",
      "625/625 [==============================] - 1s 941us/step - loss: 0.2750 - accuracy: 0.8873\n",
      "Epoch 3/100\n",
      "625/625 [==============================] - 1s 899us/step - loss: 0.2343 - accuracy: 0.9053\n",
      "Epoch 4/100\n",
      "625/625 [==============================] - 1s 904us/step - loss: 0.2061 - accuracy: 0.9149\n",
      "Epoch 5/100\n",
      "625/625 [==============================] - 1s 918us/step - loss: 0.1897 - accuracy: 0.9205\n",
      "Epoch 6/100\n",
      "625/625 [==============================] - 1s 976us/step - loss: 0.1847 - accuracy: 0.9204\n",
      "Epoch 7/100\n",
      "625/625 [==============================] - 1s 898us/step - loss: 0.1742 - accuracy: 0.9273\n",
      "Epoch 8/100\n",
      "625/625 [==============================] - 1s 955us/step - loss: 0.1703 - accuracy: 0.9291\n",
      "Epoch 9/100\n",
      "625/625 [==============================] - 1s 997us/step - loss: 0.1671 - accuracy: 0.9288\n",
      "Epoch 10/100\n",
      "625/625 [==============================] - 1s 928us/step - loss: 0.1628 - accuracy: 0.9301\n",
      "Epoch 11/100\n",
      "625/625 [==============================] - 1s 1ms/step - loss: 0.1600 - accuracy: 0.9314\n",
      "Epoch 12/100\n",
      "625/625 [==============================] - 1s 939us/step - loss: 0.1566 - accuracy: 0.9336\n",
      "Epoch 13/100\n",
      "625/625 [==============================] - 1s 922us/step - loss: 0.1567 - accuracy: 0.9346\n",
      "Epoch 14/100\n",
      "625/625 [==============================] - 1s 904us/step - loss: 0.1542 - accuracy: 0.9346\n",
      "Epoch 15/100\n",
      "625/625 [==============================] - 1s 914us/step - loss: 0.1526 - accuracy: 0.9348\n",
      "Epoch 16/100\n",
      "625/625 [==============================] - 1s 955us/step - loss: 0.1516 - accuracy: 0.9362\n",
      "Epoch 17/100\n",
      "625/625 [==============================] - 1s 909us/step - loss: 0.1501 - accuracy: 0.9374\n",
      "Epoch 18/100\n",
      "625/625 [==============================] - 1s 891us/step - loss: 0.1493 - accuracy: 0.9368\n",
      "Epoch 19/100\n",
      "625/625 [==============================] - 1s 912us/step - loss: 0.1475 - accuracy: 0.9368\n",
      "Epoch 20/100\n",
      "625/625 [==============================] - 1s 880us/step - loss: 0.1476 - accuracy: 0.9371\n",
      "Epoch 21/100\n",
      "625/625 [==============================] - 1s 885us/step - loss: 0.1455 - accuracy: 0.9369\n",
      "Epoch 22/100\n",
      "625/625 [==============================] - 1s 896us/step - loss: 0.1455 - accuracy: 0.9367\n",
      "Epoch 23/100\n",
      "625/625 [==============================] - 1s 875us/step - loss: 0.1438 - accuracy: 0.9380\n",
      "Epoch 24/100\n",
      "625/625 [==============================] - 1s 874us/step - loss: 0.1438 - accuracy: 0.9386\n",
      "Epoch 25/100\n",
      "625/625 [==============================] - 1s 874us/step - loss: 0.1436 - accuracy: 0.9369\n",
      "Epoch 26/100\n",
      "625/625 [==============================] - 1s 874us/step - loss: 0.1432 - accuracy: 0.9376\n",
      "Epoch 27/100\n",
      "625/625 [==============================] - 1s 880us/step - loss: 0.1439 - accuracy: 0.9382\n",
      "Epoch 28/100\n",
      "625/625 [==============================] - 1s 875us/step - loss: 0.1425 - accuracy: 0.9387\n",
      "Epoch 29/100\n",
      "625/625 [==============================] - 1s 877us/step - loss: 0.1407 - accuracy: 0.9392\n",
      "Epoch 30/100\n",
      "625/625 [==============================] - 1s 875us/step - loss: 0.1411 - accuracy: 0.9392\n",
      "Epoch 31/100\n",
      "625/625 [==============================] - 1s 880us/step - loss: 0.1395 - accuracy: 0.9395\n",
      "Epoch 32/100\n",
      "625/625 [==============================] - 1s 883us/step - loss: 0.1401 - accuracy: 0.9394\n",
      "Epoch 33/100\n",
      "625/625 [==============================] - 1s 874us/step - loss: 0.1390 - accuracy: 0.9394\n",
      "Epoch 34/100\n",
      "625/625 [==============================] - 1s 883us/step - loss: 0.1396 - accuracy: 0.9386\n",
      "Epoch 35/100\n",
      "625/625 [==============================] - 1s 893us/step - loss: 0.1370 - accuracy: 0.9400\n",
      "Epoch 36/100\n",
      "625/625 [==============================] - 1s 880us/step - loss: 0.1373 - accuracy: 0.9402\n",
      "Epoch 37/100\n",
      "625/625 [==============================] - 1s 886us/step - loss: 0.1371 - accuracy: 0.9413\n",
      "Epoch 38/100\n",
      "625/625 [==============================] - 1s 901us/step - loss: 0.1366 - accuracy: 0.9408\n",
      "Epoch 39/100\n",
      "625/625 [==============================] - 1s 877us/step - loss: 0.1367 - accuracy: 0.9413\n",
      "Epoch 40/100\n",
      "625/625 [==============================] - 1s 893us/step - loss: 0.1348 - accuracy: 0.9414\n",
      "Epoch 41/100\n",
      "625/625 [==============================] - 1s 878us/step - loss: 0.1360 - accuracy: 0.9406\n",
      "Epoch 42/100\n",
      "625/625 [==============================] - 1s 883us/step - loss: 0.1356 - accuracy: 0.9412\n",
      "Epoch 43/100\n",
      "625/625 [==============================] - 1s 870us/step - loss: 0.1329 - accuracy: 0.9417\n",
      "Epoch 44/100\n",
      "625/625 [==============================] - 1s 886us/step - loss: 0.1354 - accuracy: 0.9406\n",
      "Epoch 45/100\n",
      "625/625 [==============================] - 1s 880us/step - loss: 0.1356 - accuracy: 0.9397\n",
      "Epoch 46/100\n",
      "625/625 [==============================] - 1s 886us/step - loss: 0.1331 - accuracy: 0.9420\n",
      "Epoch 47/100\n",
      "625/625 [==============================] - 1s 875us/step - loss: 0.1335 - accuracy: 0.9415\n",
      "Epoch 48/100\n",
      "625/625 [==============================] - 1s 874us/step - loss: 0.1342 - accuracy: 0.9426\n",
      "Epoch 49/100\n",
      "625/625 [==============================] - 1s 891us/step - loss: 0.1326 - accuracy: 0.9426\n",
      "Epoch 50/100\n",
      "625/625 [==============================] - 1s 874us/step - loss: 0.1312 - accuracy: 0.9429\n",
      "Epoch 51/100\n",
      "625/625 [==============================] - 1s 880us/step - loss: 0.1307 - accuracy: 0.9416\n",
      "Epoch 52/100\n",
      "625/625 [==============================] - 1s 867us/step - loss: 0.1309 - accuracy: 0.9430\n",
      "Epoch 53/100\n",
      "625/625 [==============================] - 1s 867us/step - loss: 0.1307 - accuracy: 0.9431\n",
      "Epoch 54/100\n",
      "625/625 [==============================] - 1s 866us/step - loss: 0.1308 - accuracy: 0.9427\n",
      "Epoch 55/100\n",
      "625/625 [==============================] - 1s 869us/step - loss: 0.1299 - accuracy: 0.9425\n",
      "Epoch 56/100\n",
      "625/625 [==============================] - 1s 880us/step - loss: 0.1292 - accuracy: 0.9433\n",
      "Epoch 57/100\n",
      "625/625 [==============================] - 1s 878us/step - loss: 0.1284 - accuracy: 0.9436\n",
      "Epoch 58/100\n",
      "625/625 [==============================] - 1s 888us/step - loss: 0.1302 - accuracy: 0.9433\n",
      "Epoch 59/100\n",
      "625/625 [==============================] - 1s 874us/step - loss: 0.1279 - accuracy: 0.9426\n",
      "Epoch 60/100\n",
      "625/625 [==============================] - 1s 869us/step - loss: 0.1283 - accuracy: 0.9447\n",
      "Epoch 61/100\n",
      "625/625 [==============================] - 1s 867us/step - loss: 0.1271 - accuracy: 0.9453\n",
      "Epoch 62/100\n",
      "625/625 [==============================] - 1s 858us/step - loss: 0.1255 - accuracy: 0.9448\n",
      "Epoch 63/100\n",
      "625/625 [==============================] - 1s 858us/step - loss: 0.1264 - accuracy: 0.9447\n",
      "Epoch 64/100\n",
      "625/625 [==============================] - 1s 894us/step - loss: 0.1267 - accuracy: 0.9441\n",
      "Epoch 65/100\n",
      "625/625 [==============================] - 1s 875us/step - loss: 0.1274 - accuracy: 0.9439\n",
      "Epoch 66/100\n",
      "625/625 [==============================] - 1s 906us/step - loss: 0.1257 - accuracy: 0.9440\n",
      "Epoch 67/100\n",
      "625/625 [==============================] - 1s 899us/step - loss: 0.1252 - accuracy: 0.9454\n",
      "Epoch 68/100\n",
      "625/625 [==============================] - 1s 880us/step - loss: 0.1261 - accuracy: 0.9449\n",
      "Epoch 69/100\n",
      "625/625 [==============================] - 1s 870us/step - loss: 0.1260 - accuracy: 0.9447\n",
      "Epoch 70/100\n",
      "625/625 [==============================] - 1s 880us/step - loss: 0.1247 - accuracy: 0.9462\n",
      "Epoch 71/100\n",
      "625/625 [==============================] - 1s 875us/step - loss: 0.1245 - accuracy: 0.9455\n",
      "Epoch 72/100\n",
      "625/625 [==============================] - 1s 875us/step - loss: 0.1243 - accuracy: 0.9445\n",
      "Epoch 73/100\n",
      "625/625 [==============================] - 1s 874us/step - loss: 0.1230 - accuracy: 0.9453\n",
      "Epoch 74/100\n",
      "625/625 [==============================] - 1s 869us/step - loss: 0.1237 - accuracy: 0.9458\n",
      "Epoch 75/100\n",
      "625/625 [==============================] - 1s 870us/step - loss: 0.1247 - accuracy: 0.9448\n",
      "Epoch 76/100\n",
      "625/625 [==============================] - 1s 918us/step - loss: 0.1221 - accuracy: 0.9474\n",
      "Epoch 77/100\n",
      "625/625 [==============================] - 1s 878us/step - loss: 0.1226 - accuracy: 0.9459\n",
      "Epoch 78/100\n",
      "625/625 [==============================] - 1s 894us/step - loss: 0.1218 - accuracy: 0.9459\n",
      "Epoch 79/100\n",
      "625/625 [==============================] - 1s 878us/step - loss: 0.1217 - accuracy: 0.9473\n",
      "Epoch 80/100\n",
      "625/625 [==============================] - 1s 901us/step - loss: 0.1220 - accuracy: 0.9455\n",
      "Epoch 81/100\n",
      "625/625 [==============================] - 1s 883us/step - loss: 0.1209 - accuracy: 0.9483\n",
      "Epoch 82/100\n",
      "625/625 [==============================] - 1s 899us/step - loss: 0.1215 - accuracy: 0.9455\n",
      "Epoch 83/100\n",
      "625/625 [==============================] - 1s 870us/step - loss: 0.1213 - accuracy: 0.9458\n",
      "Epoch 84/100\n",
      "625/625 [==============================] - 1s 883us/step - loss: 0.1205 - accuracy: 0.9469\n",
      "Epoch 85/100\n",
      "625/625 [==============================] - 1s 902us/step - loss: 0.1200 - accuracy: 0.9487\n",
      "Epoch 86/100\n",
      "625/625 [==============================] - 1s 910us/step - loss: 0.1201 - accuracy: 0.9477\n",
      "Epoch 87/100\n",
      "625/625 [==============================] - 1s 878us/step - loss: 0.1207 - accuracy: 0.9470\n",
      "Epoch 88/100\n",
      "625/625 [==============================] - 1s 861us/step - loss: 0.1184 - accuracy: 0.9482\n",
      "Epoch 89/100\n",
      "625/625 [==============================] - 1s 858us/step - loss: 0.1195 - accuracy: 0.9465\n",
      "Epoch 90/100\n",
      "625/625 [==============================] - 1s 859us/step - loss: 0.1193 - accuracy: 0.9483\n",
      "Epoch 91/100\n",
      "625/625 [==============================] - 1s 854us/step - loss: 0.1209 - accuracy: 0.9462\n",
      "Epoch 92/100\n",
      "625/625 [==============================] - 1s 878us/step - loss: 0.1189 - accuracy: 0.9472\n",
      "Epoch 93/100\n",
      "625/625 [==============================] - 1s 875us/step - loss: 0.1176 - accuracy: 0.9500\n",
      "Epoch 94/100\n",
      "625/625 [==============================] - 1s 888us/step - loss: 0.1190 - accuracy: 0.9465\n",
      "Epoch 95/100\n",
      "625/625 [==============================] - 1s 893us/step - loss: 0.1177 - accuracy: 0.9485\n",
      "Epoch 96/100\n",
      "625/625 [==============================] - 1s 877us/step - loss: 0.1181 - accuracy: 0.9476\n",
      "Epoch 97/100\n",
      "625/625 [==============================] - 1s 893us/step - loss: 0.1176 - accuracy: 0.9467\n",
      "Epoch 98/100\n",
      "625/625 [==============================] - 1s 891us/step - loss: 0.1179 - accuracy: 0.9477\n",
      "Epoch 99/100\n",
      "625/625 [==============================] - 1s 885us/step - loss: 0.1184 - accuracy: 0.9458\n",
      "Epoch 100/100\n",
      "625/625 [==============================] - 1s 878us/step - loss: 0.1183 - accuracy: 0.9480\n"
     ]
    },
    {
     "data": {
      "text/plain": [
       "<keras.callbacks.History at 0x2093834c3c8>"
      ]
     },
     "execution_count": 120,
     "metadata": {},
     "output_type": "execute_result"
    }
   ],
   "source": [
    "B_NN2 = Sequential()\n",
    "B_NN2.add(Dense(32, activation='relu', input_dim=Org_X.shape[1]))\n",
    "B_NN2.add(Dense(16, activation='relu', input_dim=Org_X.shape[1]))\n",
    "B_NN2.add(Dense(1, activation='sigmoid'))\n",
    "B_NN2.compile(loss='binary_crossentropy', optimizer='adam', metrics=['accuracy'])\n",
    "\n",
    "B_NN2.fit(Both_X, Both_y, epochs=100)"
   ]
  },
  {
   "cell_type": "code",
   "execution_count": 121,
   "metadata": {},
   "outputs": [
    {
     "name": "stdout",
     "output_type": "stream",
     "text": [
      "810/810 [==============================] - 1s 666us/step - loss: 0.1442 - accuracy: 0.9452\n"
     ]
    },
    {
     "data": {
      "text/plain": [
       "[0.14422672986984253, 0.9451975226402283]"
      ]
     },
     "execution_count": 121,
     "metadata": {},
     "output_type": "execute_result"
    }
   ],
   "source": [
    "scores = B_NN2.evaluate(test_X, test_y)\n",
    "scores"
   ]
  },
  {
   "cell_type": "code",
   "execution_count": 122,
   "metadata": {},
   "outputs": [
    {
     "name": "stdout",
     "output_type": "stream",
     "text": [
      "Epoch 1/100\n",
      "313/313 [==============================] - 1s 878us/step - loss: 0.4774 - accuracy: 0.7831\n",
      "Epoch 2/100\n",
      "313/313 [==============================] - 0s 891us/step - loss: 0.3521 - accuracy: 0.8581\n",
      "Epoch 3/100\n",
      "313/313 [==============================] - 0s 910us/step - loss: 0.3178 - accuracy: 0.8737\n",
      "Epoch 4/100\n",
      "313/313 [==============================] - 0s 901us/step - loss: 0.2864 - accuracy: 0.8885\n",
      "Epoch 5/100\n",
      "313/313 [==============================] - 0s 894us/step - loss: 0.2520 - accuracy: 0.9015\n",
      "Epoch 6/100\n",
      "313/313 [==============================] - 0s 888us/step - loss: 0.2321 - accuracy: 0.90560s - loss: 0.2261 - accuracy: \n",
      "Epoch 7/100\n",
      "313/313 [==============================] - 0s 888us/step - loss: 0.2164 - accuracy: 0.9117\n",
      "Epoch 8/100\n",
      "313/313 [==============================] - 0s 882us/step - loss: 0.2055 - accuracy: 0.9179\n",
      "Epoch 9/100\n",
      "313/313 [==============================] - 0s 920us/step - loss: 0.1976 - accuracy: 0.9190\n",
      "Epoch 10/100\n",
      "313/313 [==============================] - 0s 891us/step - loss: 0.1914 - accuracy: 0.9226\n",
      "Epoch 11/100\n",
      "313/313 [==============================] - 0s 901us/step - loss: 0.1845 - accuracy: 0.9257\n",
      "Epoch 12/100\n",
      "313/313 [==============================] - 0s 926us/step - loss: 0.1809 - accuracy: 0.9269\n",
      "Epoch 13/100\n",
      "313/313 [==============================] - 0s 930us/step - loss: 0.1783 - accuracy: 0.9287\n",
      "Epoch 14/100\n",
      "313/313 [==============================] - 0s 904us/step - loss: 0.1747 - accuracy: 0.9294\n",
      "Epoch 15/100\n",
      "313/313 [==============================] - 0s 891us/step - loss: 0.1697 - accuracy: 0.9316\n",
      "Epoch 16/100\n",
      "313/313 [==============================] - 0s 987us/step - loss: 0.1692 - accuracy: 0.9322\n",
      "Epoch 17/100\n",
      "313/313 [==============================] - 0s 885us/step - loss: 0.1646 - accuracy: 0.9327\n",
      "Epoch 18/100\n",
      "313/313 [==============================] - 0s 923us/step - loss: 0.1628 - accuracy: 0.9327\n",
      "Epoch 19/100\n",
      "313/313 [==============================] - 0s 936us/step - loss: 0.1596 - accuracy: 0.9359\n",
      "Epoch 20/100\n",
      "313/313 [==============================] - 0s 943us/step - loss: 0.1604 - accuracy: 0.9331\n",
      "Epoch 21/100\n",
      "313/313 [==============================] - 0s 926us/step - loss: 0.1562 - accuracy: 0.9368\n",
      "Epoch 22/100\n",
      "313/313 [==============================] - 0s 959us/step - loss: 0.1546 - accuracy: 0.9373\n",
      "Epoch 23/100\n",
      "313/313 [==============================] - 0s 939us/step - loss: 0.1519 - accuracy: 0.9386\n",
      "Epoch 24/100\n",
      "313/313 [==============================] - 0s 939us/step - loss: 0.1514 - accuracy: 0.9396\n",
      "Epoch 25/100\n",
      "313/313 [==============================] - 0s 939us/step - loss: 0.1497 - accuracy: 0.9391\n",
      "Epoch 26/100\n",
      "313/313 [==============================] - 0s 959us/step - loss: 0.1488 - accuracy: 0.9390\n",
      "Epoch 27/100\n",
      "313/313 [==============================] - 0s 994us/step - loss: 0.1495 - accuracy: 0.9400\n",
      "Epoch 28/100\n",
      "313/313 [==============================] - 0s 914us/step - loss: 0.1459 - accuracy: 0.9401\n",
      "Epoch 29/100\n",
      "313/313 [==============================] - 0s 959us/step - loss: 0.1442 - accuracy: 0.9413\n",
      "Epoch 30/100\n",
      "313/313 [==============================] - 0s 930us/step - loss: 0.1423 - accuracy: 0.9381\n",
      "Epoch 31/100\n",
      "313/313 [==============================] - 0s 926us/step - loss: 0.1451 - accuracy: 0.9384\n",
      "Epoch 32/100\n",
      "313/313 [==============================] - 0s 955us/step - loss: 0.1429 - accuracy: 0.9417\n",
      "Epoch 33/100\n",
      "313/313 [==============================] - 0s 914us/step - loss: 0.1425 - accuracy: 0.9418\n",
      "Epoch 34/100\n",
      "313/313 [==============================] - 0s 939us/step - loss: 0.1422 - accuracy: 0.9393\n",
      "Epoch 35/100\n",
      "313/313 [==============================] - 0s 920us/step - loss: 0.1416 - accuracy: 0.9420\n",
      "Epoch 36/100\n",
      "313/313 [==============================] - 0s 923us/step - loss: 0.1399 - accuracy: 0.9421\n",
      "Epoch 37/100\n",
      "313/313 [==============================] - 0s 933us/step - loss: 0.1375 - accuracy: 0.9414\n",
      "Epoch 38/100\n",
      "313/313 [==============================] - 0s 933us/step - loss: 0.1373 - accuracy: 0.9430\n",
      "Epoch 39/100\n",
      "313/313 [==============================] - 0s 939us/step - loss: 0.1394 - accuracy: 0.9417\n",
      "Epoch 40/100\n",
      "313/313 [==============================] - 0s 930us/step - loss: 0.1368 - accuracy: 0.9424\n",
      "Epoch 41/100\n",
      "313/313 [==============================] - 0s 939us/step - loss: 0.1365 - accuracy: 0.9432\n",
      "Epoch 42/100\n",
      "313/313 [==============================] - 0s 923us/step - loss: 0.1347 - accuracy: 0.9441\n",
      "Epoch 43/100\n",
      "313/313 [==============================] - 0s 920us/step - loss: 0.1342 - accuracy: 0.9437\n",
      "Epoch 44/100\n",
      "313/313 [==============================] - 0s 975us/step - loss: 0.1336 - accuracy: 0.9427\n",
      "Epoch 45/100\n",
      "313/313 [==============================] - 0s 955us/step - loss: 0.1328 - accuracy: 0.9425\n",
      "Epoch 46/100\n",
      "313/313 [==============================] - 0s 955us/step - loss: 0.1317 - accuracy: 0.9449\n",
      "Epoch 47/100\n",
      "313/313 [==============================] - 0s 943us/step - loss: 0.1321 - accuracy: 0.9448\n",
      "Epoch 48/100\n",
      "313/313 [==============================] - 0s 984us/step - loss: 0.1306 - accuracy: 0.9450\n",
      "Epoch 49/100\n",
      "313/313 [==============================] - 0s 946us/step - loss: 0.1320 - accuracy: 0.9438\n",
      "Epoch 50/100\n",
      "313/313 [==============================] - 0s 933us/step - loss: 0.1309 - accuracy: 0.9442\n",
      "Epoch 51/100\n",
      "313/313 [==============================] - 0s 923us/step - loss: 0.1287 - accuracy: 0.9441\n",
      "Epoch 52/100\n",
      "313/313 [==============================] - 0s 926us/step - loss: 0.1280 - accuracy: 0.9468\n",
      "Epoch 53/100\n",
      "313/313 [==============================] - 0s 942us/step - loss: 0.1269 - accuracy: 0.9452\n",
      "Epoch 54/100\n",
      "313/313 [==============================] - 0s 943us/step - loss: 0.1270 - accuracy: 0.9444\n",
      "Epoch 55/100\n",
      "313/313 [==============================] - 0s 936us/step - loss: 0.1263 - accuracy: 0.9454\n",
      "Epoch 56/100\n",
      "313/313 [==============================] - 0s 920us/step - loss: 0.1265 - accuracy: 0.9465\n",
      "Epoch 57/100\n",
      "313/313 [==============================] - 0s 926us/step - loss: 0.1259 - accuracy: 0.9458\n",
      "Epoch 58/100\n",
      "313/313 [==============================] - 0s 942us/step - loss: 0.1258 - accuracy: 0.9456\n",
      "Epoch 59/100\n",
      "313/313 [==============================] - 0s 933us/step - loss: 0.1239 - accuracy: 0.9470\n",
      "Epoch 60/100\n",
      "313/313 [==============================] - 0s 917us/step - loss: 0.1255 - accuracy: 0.9468\n",
      "Epoch 61/100\n",
      "313/313 [==============================] - 0s 978us/step - loss: 0.1241 - accuracy: 0.9487\n",
      "Epoch 62/100\n",
      "313/313 [==============================] - 0s 939us/step - loss: 0.1225 - accuracy: 0.9484\n",
      "Epoch 63/100\n",
      "313/313 [==============================] - 0s 936us/step - loss: 0.1223 - accuracy: 0.9488\n",
      "Epoch 64/100\n",
      "313/313 [==============================] - 0s 946us/step - loss: 0.1214 - accuracy: 0.9486\n",
      "Epoch 65/100\n",
      "313/313 [==============================] - 0s 936us/step - loss: 0.1215 - accuracy: 0.9485\n",
      "Epoch 66/100\n",
      "313/313 [==============================] - 0s 923us/step - loss: 0.1205 - accuracy: 0.9491\n",
      "Epoch 67/100\n",
      "313/313 [==============================] - 0s 952us/step - loss: 0.1204 - accuracy: 0.9514\n",
      "Epoch 68/100\n",
      "313/313 [==============================] - 0s 943us/step - loss: 0.1206 - accuracy: 0.9496\n",
      "Epoch 69/100\n",
      "313/313 [==============================] - 0s 946us/step - loss: 0.1176 - accuracy: 0.9519\n",
      "Epoch 70/100\n",
      "313/313 [==============================] - 0s 920us/step - loss: 0.1187 - accuracy: 0.9510\n",
      "Epoch 71/100\n",
      "313/313 [==============================] - 0s 955us/step - loss: 0.1201 - accuracy: 0.9486\n",
      "Epoch 72/100\n",
      "313/313 [==============================] - 0s 936us/step - loss: 0.1182 - accuracy: 0.9489\n",
      "Epoch 73/100\n",
      "313/313 [==============================] - 0s 968us/step - loss: 0.1186 - accuracy: 0.9496\n",
      "Epoch 74/100\n",
      "313/313 [==============================] - 0s 923us/step - loss: 0.1184 - accuracy: 0.9497\n",
      "Epoch 75/100\n",
      "313/313 [==============================] - 0s 939us/step - loss: 0.1155 - accuracy: 0.9510\n",
      "Epoch 76/100\n",
      "313/313 [==============================] - 0s 939us/step - loss: 0.1147 - accuracy: 0.9523\n",
      "Epoch 77/100\n",
      "313/313 [==============================] - 0s 910us/step - loss: 0.1161 - accuracy: 0.9508\n",
      "Epoch 78/100\n",
      "313/313 [==============================] - 0s 936us/step - loss: 0.1181 - accuracy: 0.9498\n",
      "Epoch 79/100\n",
      "313/313 [==============================] - 0s 946us/step - loss: 0.1170 - accuracy: 0.9512\n",
      "Epoch 80/100\n",
      "313/313 [==============================] - 0s 917us/step - loss: 0.1165 - accuracy: 0.9512\n",
      "Epoch 81/100\n",
      "313/313 [==============================] - 0s 949us/step - loss: 0.1131 - accuracy: 0.9530\n",
      "Epoch 82/100\n",
      "313/313 [==============================] - 0s 959us/step - loss: 0.1144 - accuracy: 0.9511\n",
      "Epoch 83/100\n",
      "313/313 [==============================] - 0s 917us/step - loss: 0.1138 - accuracy: 0.9510\n",
      "Epoch 84/100\n",
      "313/313 [==============================] - 0s 917us/step - loss: 0.1153 - accuracy: 0.9522\n",
      "Epoch 85/100\n",
      "313/313 [==============================] - 0s 923us/step - loss: 0.1137 - accuracy: 0.9544\n",
      "Epoch 86/100\n",
      "313/313 [==============================] - 0s 923us/step - loss: 0.1124 - accuracy: 0.9533\n",
      "Epoch 87/100\n",
      "313/313 [==============================] - 0s 930us/step - loss: 0.1121 - accuracy: 0.9515\n",
      "Epoch 88/100\n",
      "313/313 [==============================] - 0s 923us/step - loss: 0.1121 - accuracy: 0.9537\n",
      "Epoch 89/100\n",
      "313/313 [==============================] - 0s 946us/step - loss: 0.1126 - accuracy: 0.9525\n",
      "Epoch 90/100\n",
      "313/313 [==============================] - 0s 926us/step - loss: 0.1137 - accuracy: 0.9520\n",
      "Epoch 91/100\n",
      "313/313 [==============================] - 0s 943us/step - loss: 0.1160 - accuracy: 0.9500\n",
      "Epoch 92/100\n",
      "313/313 [==============================] - 0s 926us/step - loss: 0.1099 - accuracy: 0.9540\n",
      "Epoch 93/100\n",
      "313/313 [==============================] - 0s 959us/step - loss: 0.1119 - accuracy: 0.9519\n",
      "Epoch 94/100\n",
      "313/313 [==============================] - 0s 933us/step - loss: 0.1108 - accuracy: 0.9546\n",
      "Epoch 95/100\n",
      "313/313 [==============================] - 0s 939us/step - loss: 0.1137 - accuracy: 0.9507\n",
      "Epoch 96/100\n",
      "313/313 [==============================] - 0s 930us/step - loss: 0.1103 - accuracy: 0.9532\n",
      "Epoch 97/100\n",
      "313/313 [==============================] - 0s 930us/step - loss: 0.1099 - accuracy: 0.9535\n",
      "Epoch 98/100\n",
      "313/313 [==============================] - 0s 939us/step - loss: 0.1091 - accuracy: 0.9527\n",
      "Epoch 99/100\n",
      "313/313 [==============================] - 0s 936us/step - loss: 0.1086 - accuracy: 0.9547\n",
      "Epoch 100/100\n",
      "313/313 [==============================] - 0s 926us/step - loss: 0.1082 - accuracy: 0.9544\n"
     ]
    },
    {
     "data": {
      "text/plain": [
       "<keras.callbacks.History at 0x2093c3a4788>"
      ]
     },
     "execution_count": 122,
     "metadata": {},
     "output_type": "execute_result"
    }
   ],
   "source": [
    "O_NN2 = Sequential()\n",
    "O_NN2.add(Dense(32, activation='relu', input_dim=Org_X.shape[1]))\n",
    "O_NN2.add(Dense(16, activation='relu', input_dim=Org_X.shape[1]))\n",
    "O_NN2.add(Dense(1, activation='sigmoid'))\n",
    "\n",
    "O_NN2.compile(loss='binary_crossentropy', optimizer='adam', metrics=['accuracy'])\n",
    "\n",
    "O_NN2.fit(Org_X, Org_y, epochs=100)"
   ]
  },
  {
   "cell_type": "code",
   "execution_count": 123,
   "metadata": {},
   "outputs": [
    {
     "name": "stdout",
     "output_type": "stream",
     "text": [
      "810/810 [==============================] - 1s 699us/step - loss: 0.1344 - accuracy: 0.9439\n"
     ]
    },
    {
     "data": {
      "text/plain": [
       "[0.13439834117889404, 0.9439230561256409]"
      ]
     },
     "execution_count": 123,
     "metadata": {},
     "output_type": "execute_result"
    }
   ],
   "source": [
    "scores = O_NN2.evaluate(test_X, test_y)\n",
    "scores"
   ]
  },
  {
   "cell_type": "code",
   "execution_count": 124,
   "metadata": {},
   "outputs": [
    {
     "name": "stdout",
     "output_type": "stream",
     "text": [
      "Epoch 1/100\n",
      "313/313 [==============================] - 1s 949us/step - loss: 0.2755 - accuracy: 0.8899\n",
      "Epoch 2/100\n",
      "313/313 [==============================] - 0s 939us/step - loss: 0.1465 - accuracy: 0.9347\n",
      "Epoch 3/100\n",
      "313/313 [==============================] - 0s 939us/step - loss: 0.1397 - accuracy: 0.9380\n",
      "Epoch 4/100\n",
      "313/313 [==============================] - 0s 930us/step - loss: 0.1375 - accuracy: 0.9374\n",
      "Epoch 5/100\n",
      "313/313 [==============================] - 0s 926us/step - loss: 0.1356 - accuracy: 0.9392\n",
      "Epoch 6/100\n",
      "313/313 [==============================] - 0s 959us/step - loss: 0.1368 - accuracy: 0.9376\n",
      "Epoch 7/100\n",
      "313/313 [==============================] - 0s 949us/step - loss: 0.1357 - accuracy: 0.9379\n",
      "Epoch 8/100\n",
      "313/313 [==============================] - 0s 939us/step - loss: 0.1386 - accuracy: 0.9362\n",
      "Epoch 9/100\n",
      "313/313 [==============================] - 0s 981us/step - loss: 0.1341 - accuracy: 0.9396\n",
      "Epoch 10/100\n",
      "313/313 [==============================] - 0s 978us/step - loss: 0.1342 - accuracy: 0.9377\n",
      "Epoch 11/100\n",
      "313/313 [==============================] - 0s 968us/step - loss: 0.1339 - accuracy: 0.9406\n",
      "Epoch 12/100\n",
      "313/313 [==============================] - 0s 991us/step - loss: 0.1326 - accuracy: 0.9392\n",
      "Epoch 13/100\n",
      "313/313 [==============================] - 0s 936us/step - loss: 0.1333 - accuracy: 0.9382\n",
      "Epoch 14/100\n",
      "313/313 [==============================] - 0s 987us/step - loss: 0.1355 - accuracy: 0.9379\n",
      "Epoch 15/100\n",
      "313/313 [==============================] - 0s 984us/step - loss: 0.1318 - accuracy: 0.9391\n",
      "Epoch 16/100\n",
      "313/313 [==============================] - 0s 959us/step - loss: 0.1343 - accuracy: 0.9369\n",
      "Epoch 17/100\n",
      "313/313 [==============================] - 0s 1ms/step - loss: 0.1342 - accuracy: 0.9386\n",
      "Epoch 18/100\n",
      "313/313 [==============================] - 0s 975us/step - loss: 0.1320 - accuracy: 0.9401\n",
      "Epoch 19/100\n",
      "313/313 [==============================] - 0s 1ms/step - loss: 0.1341 - accuracy: 0.9399\n",
      "Epoch 20/100\n",
      "313/313 [==============================] - 0s 959us/step - loss: 0.1328 - accuracy: 0.9401\n",
      "Epoch 21/100\n",
      "313/313 [==============================] - 0s 994us/step - loss: 0.1334 - accuracy: 0.9389\n",
      "Epoch 22/100\n",
      "313/313 [==============================] - 0s 955us/step - loss: 0.1331 - accuracy: 0.9388\n",
      "Epoch 23/100\n",
      "313/313 [==============================] - 0s 939us/step - loss: 0.1315 - accuracy: 0.9400\n",
      "Epoch 24/100\n",
      "313/313 [==============================] - 0s 975us/step - loss: 0.1330 - accuracy: 0.9393\n",
      "Epoch 25/100\n",
      "313/313 [==============================] - 0s 981us/step - loss: 0.1331 - accuracy: 0.9391\n",
      "Epoch 26/100\n",
      "313/313 [==============================] - 0s 987us/step - loss: 0.1320 - accuracy: 0.9404\n",
      "Epoch 27/100\n",
      "313/313 [==============================] - 0s 997us/step - loss: 0.1321 - accuracy: 0.9395\n",
      "Epoch 28/100\n",
      "313/313 [==============================] - 0s 971us/step - loss: 0.1303 - accuracy: 0.9393\n",
      "Epoch 29/100\n",
      "313/313 [==============================] - 0s 1ms/step - loss: 0.1299 - accuracy: 0.9412\n",
      "Epoch 30/100\n",
      "313/313 [==============================] - 0s 952us/step - loss: 0.1310 - accuracy: 0.9393\n",
      "Epoch 31/100\n",
      "313/313 [==============================] - 0s 971us/step - loss: 0.1309 - accuracy: 0.9409\n",
      "Epoch 32/100\n",
      "313/313 [==============================] - 0s 997us/step - loss: 0.1320 - accuracy: 0.9409\n",
      "Epoch 33/100\n",
      "313/313 [==============================] - 0s 987us/step - loss: 0.1313 - accuracy: 0.9409\n",
      "Epoch 34/100\n",
      "313/313 [==============================] - 0s 971us/step - loss: 0.1344 - accuracy: 0.9395\n",
      "Epoch 35/100\n",
      "313/313 [==============================] - 0s 952us/step - loss: 0.1299 - accuracy: 0.9403\n",
      "Epoch 36/100\n",
      "313/313 [==============================] - 0s 978us/step - loss: 0.1315 - accuracy: 0.9394\n",
      "Epoch 37/100\n",
      "313/313 [==============================] - 0s 955us/step - loss: 0.1294 - accuracy: 0.9401\n",
      "Epoch 38/100\n",
      "313/313 [==============================] - 0s 1ms/step - loss: 0.1300 - accuracy: 0.9389\n",
      "Epoch 39/100\n",
      "313/313 [==============================] - 0s 968us/step - loss: 0.1302 - accuracy: 0.9401\n",
      "Epoch 40/100\n",
      "313/313 [==============================] - 0s 1ms/step - loss: 0.1301 - accuracy: 0.9401\n",
      "Epoch 41/100\n",
      "313/313 [==============================] - 0s 952us/step - loss: 0.1310 - accuracy: 0.9398\n",
      "Epoch 42/100\n",
      "313/313 [==============================] - 0s 991us/step - loss: 0.1304 - accuracy: 0.9397\n",
      "Epoch 43/100\n",
      "313/313 [==============================] - 0s 984us/step - loss: 0.1302 - accuracy: 0.9423\n",
      "Epoch 44/100\n",
      "313/313 [==============================] - 0s 933us/step - loss: 0.1282 - accuracy: 0.9413\n",
      "Epoch 45/100\n",
      "313/313 [==============================] - 0s 978us/step - loss: 0.1311 - accuracy: 0.9396\n",
      "Epoch 46/100\n",
      "313/313 [==============================] - 0s 946us/step - loss: 0.1290 - accuracy: 0.9409\n",
      "Epoch 47/100\n",
      "313/313 [==============================] - 0s 965us/step - loss: 0.1293 - accuracy: 0.9408\n",
      "Epoch 48/100\n",
      "313/313 [==============================] - 0s 975us/step - loss: 0.1297 - accuracy: 0.9412\n",
      "Epoch 49/100\n",
      "313/313 [==============================] - 0s 955us/step - loss: 0.1295 - accuracy: 0.9415\n",
      "Epoch 50/100\n",
      "313/313 [==============================] - 0s 930us/step - loss: 0.1301 - accuracy: 0.9410\n",
      "Epoch 51/100\n",
      "313/313 [==============================] - 0s 943us/step - loss: 0.1290 - accuracy: 0.9409\n",
      "Epoch 52/100\n",
      "313/313 [==============================] - 0s 975us/step - loss: 0.1284 - accuracy: 0.9418\n",
      "Epoch 53/100\n",
      "313/313 [==============================] - 0s 991us/step - loss: 0.1288 - accuracy: 0.9403\n",
      "Epoch 54/100\n",
      "313/313 [==============================] - 0s 955us/step - loss: 0.1280 - accuracy: 0.9427\n",
      "Epoch 55/100\n",
      "313/313 [==============================] - 0s 943us/step - loss: 0.1294 - accuracy: 0.9405\n",
      "Epoch 56/100\n",
      "313/313 [==============================] - 0s 997us/step - loss: 0.1289 - accuracy: 0.9394\n",
      "Epoch 57/100\n",
      "313/313 [==============================] - 0s 943us/step - loss: 0.1280 - accuracy: 0.9427\n",
      "Epoch 58/100\n",
      "313/313 [==============================] - 0s 965us/step - loss: 0.1308 - accuracy: 0.9394\n",
      "Epoch 59/100\n",
      "313/313 [==============================] - 0s 959us/step - loss: 0.1317 - accuracy: 0.9400\n",
      "Epoch 60/100\n",
      "313/313 [==============================] - 0s 943us/step - loss: 0.1283 - accuracy: 0.9419\n",
      "Epoch 61/100\n",
      "313/313 [==============================] - 0s 962us/step - loss: 0.1292 - accuracy: 0.9408\n",
      "Epoch 62/100\n",
      "313/313 [==============================] - 0s 978us/step - loss: 0.1273 - accuracy: 0.9432\n",
      "Epoch 63/100\n",
      "313/313 [==============================] - 0s 971us/step - loss: 0.1271 - accuracy: 0.9417\n",
      "Epoch 64/100\n",
      "313/313 [==============================] - 0s 959us/step - loss: 0.1288 - accuracy: 0.9408\n",
      "Epoch 65/100\n",
      "313/313 [==============================] - 0s 939us/step - loss: 0.1288 - accuracy: 0.9404\n",
      "Epoch 66/100\n",
      "313/313 [==============================] - 0s 952us/step - loss: 0.1282 - accuracy: 0.9406\n",
      "Epoch 67/100\n",
      "313/313 [==============================] - 0s 946us/step - loss: 0.1272 - accuracy: 0.9423\n",
      "Epoch 68/100\n",
      "313/313 [==============================] - 0s 939us/step - loss: 0.1288 - accuracy: 0.9416\n",
      "Epoch 69/100\n",
      "313/313 [==============================] - 0s 987us/step - loss: 0.1267 - accuracy: 0.9429\n",
      "Epoch 70/100\n",
      "313/313 [==============================] - 0s 939us/step - loss: 0.1273 - accuracy: 0.9415\n",
      "Epoch 71/100\n",
      "313/313 [==============================] - 0s 959us/step - loss: 0.1287 - accuracy: 0.9411\n",
      "Epoch 72/100\n",
      "313/313 [==============================] - 0s 939us/step - loss: 0.1279 - accuracy: 0.9403\n",
      "Epoch 73/100\n",
      "313/313 [==============================] - 0s 946us/step - loss: 0.1271 - accuracy: 0.9434\n",
      "Epoch 74/100\n",
      "313/313 [==============================] - 0s 968us/step - loss: 0.1258 - accuracy: 0.9432\n",
      "Epoch 75/100\n",
      "313/313 [==============================] - 0s 946us/step - loss: 0.1261 - accuracy: 0.9426\n",
      "Epoch 76/100\n",
      "313/313 [==============================] - 0s 955us/step - loss: 0.1259 - accuracy: 0.9406\n",
      "Epoch 77/100\n",
      "313/313 [==============================] - 0s 936us/step - loss: 0.1286 - accuracy: 0.9389\n",
      "Epoch 78/100\n",
      "313/313 [==============================] - 0s 981us/step - loss: 0.1279 - accuracy: 0.9413\n",
      "Epoch 79/100\n",
      "313/313 [==============================] - 0s 1ms/step - loss: 0.1260 - accuracy: 0.9410\n"
     ]
    },
    {
     "name": "stdout",
     "output_type": "stream",
     "text": [
      "Epoch 80/100\n",
      "313/313 [==============================] - 0s 984us/step - loss: 0.1258 - accuracy: 0.9426\n",
      "Epoch 81/100\n",
      "313/313 [==============================] - 0s 1ms/step - loss: 0.1276 - accuracy: 0.9428\n",
      "Epoch 82/100\n",
      "313/313 [==============================] - 0s 981us/step - loss: 0.1263 - accuracy: 0.9422\n",
      "Epoch 83/100\n",
      "313/313 [==============================] - 0s 987us/step - loss: 0.1279 - accuracy: 0.9422\n",
      "Epoch 84/100\n",
      "313/313 [==============================] - 0s 978us/step - loss: 0.1280 - accuracy: 0.9415\n",
      "Epoch 85/100\n",
      "313/313 [==============================] - 0s 1ms/step - loss: 0.1269 - accuracy: 0.9411\n",
      "Epoch 86/100\n",
      "313/313 [==============================] - 0s 971us/step - loss: 0.1250 - accuracy: 0.9437\n",
      "Epoch 87/100\n",
      "313/313 [==============================] - 0s 965us/step - loss: 0.1263 - accuracy: 0.9411\n",
      "Epoch 88/100\n",
      "313/313 [==============================] - 0s 933us/step - loss: 0.1261 - accuracy: 0.9424\n",
      "Epoch 89/100\n",
      "313/313 [==============================] - 0s 1ms/step - loss: 0.1259 - accuracy: 0.9424\n",
      "Epoch 90/100\n",
      "313/313 [==============================] - 0s 1ms/step - loss: 0.1265 - accuracy: 0.9409\n",
      "Epoch 91/100\n",
      "313/313 [==============================] - 0s 1ms/step - loss: 0.1256 - accuracy: 0.9434\n",
      "Epoch 92/100\n",
      "313/313 [==============================] - 0s 994us/step - loss: 0.1261 - accuracy: 0.9407\n",
      "Epoch 93/100\n",
      "313/313 [==============================] - 0s 952us/step - loss: 0.1258 - accuracy: 0.9430\n",
      "Epoch 94/100\n",
      "313/313 [==============================] - 0s 1ms/step - loss: 0.1254 - accuracy: 0.9429\n",
      "Epoch 95/100\n",
      "313/313 [==============================] - 0s 1ms/step - loss: 0.1258 - accuracy: 0.9421\n",
      "Epoch 96/100\n",
      "313/313 [==============================] - 0s 994us/step - loss: 0.1253 - accuracy: 0.9440\n",
      "Epoch 97/100\n",
      "313/313 [==============================] - 0s 949us/step - loss: 0.1244 - accuracy: 0.9434\n",
      "Epoch 98/100\n",
      "313/313 [==============================] - 0s 984us/step - loss: 0.1261 - accuracy: 0.9420\n",
      "Epoch 99/100\n",
      "313/313 [==============================] - 0s 952us/step - loss: 0.1253 - accuracy: 0.9426\n",
      "Epoch 100/100\n",
      "313/313 [==============================] - 0s 1ms/step - loss: 0.1262 - accuracy: 0.9418\n"
     ]
    },
    {
     "data": {
      "text/plain": [
       "<keras.callbacks.History at 0x2093ba24648>"
      ]
     },
     "execution_count": 124,
     "metadata": {},
     "output_type": "execute_result"
    }
   ],
   "source": [
    "S_NN2 = Sequential()\n",
    "S_NN2.add(Dense(64, activation='relu', input_dim=Org_X.shape[1]))\n",
    "S_NN2.add(Dense(32, activation='relu', input_dim=Org_X.shape[1]))\n",
    "S_NN2.add(Dense(1, activation='sigmoid'))\n",
    "\n",
    "S_NN2.compile(loss='binary_crossentropy', optimizer='adam', metrics=['accuracy'])\n",
    "\n",
    "S_NN2.fit(Syn_X, Syn_y, epochs=100)"
   ]
  },
  {
   "cell_type": "code",
   "execution_count": 125,
   "metadata": {},
   "outputs": [
    {
     "name": "stdout",
     "output_type": "stream",
     "text": [
      "810/810 [==============================] - 1s 692us/step - loss: 4.9416 - accuracy: 0.4868\n"
     ]
    },
    {
     "data": {
      "text/plain": [
       "[4.941595554351807, 0.48677247762680054]"
      ]
     },
     "execution_count": 125,
     "metadata": {},
     "output_type": "execute_result"
    }
   ],
   "source": [
    "scores = S_NN2.evaluate(test_X, test_y)\n",
    "scores"
   ]
  }
 ],
 "metadata": {
  "kernelspec": {
   "display_name": "Python 3",
   "language": "python",
   "name": "python3"
  },
  "language_info": {
   "codemirror_mode": {
    "name": "ipython",
    "version": 3
   },
   "file_extension": ".py",
   "mimetype": "text/x-python",
   "name": "python",
   "nbconvert_exporter": "python",
   "pygments_lexer": "ipython3",
   "version": "3.7.6"
  }
 },
 "nbformat": 4,
 "nbformat_minor": 4
}
